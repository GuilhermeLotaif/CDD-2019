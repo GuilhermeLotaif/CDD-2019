{
 "cells": [
  {
   "cell_type": "markdown",
   "metadata": {},
   "source": [
    "____\n",
    "\n",
    "# &nbsp;&nbsp;&nbsp;&nbsp;&nbsp;&nbsp;&nbsp;&nbsp;&nbsp;&nbsp;&nbsp;&nbsp;&nbsp;&nbsp;&nbsp;&nbsp;&nbsp;&nbsp;&nbsp;&nbsp;&nbsp;&nbsp;&nbsp;&nbsp;&nbsp;&nbsp;&nbsp;&nbsp;&nbsp;&nbsp;&nbsp;&nbsp;&nbsp; &nbsp;                        Projeto 1 - Ciência dos Dados\n",
    "### &nbsp;&nbsp;&nbsp;&nbsp;&nbsp;&nbsp;&nbsp;&nbsp;&nbsp;&nbsp;&nbsp;&nbsp;&nbsp;&nbsp;&nbsp;&nbsp;&nbsp;&nbsp;&nbsp;&nbsp;&nbsp;&nbsp;&nbsp;&nbsp;&nbsp;&nbsp;&nbsp;&nbsp;&nbsp;&nbsp;&nbsp;&nbsp;&nbsp;&nbsp;&nbsp;&nbsp;&nbsp;&nbsp;&nbsp;&nbsp;&nbsp;&nbsp;&nbsp;&nbsp;&nbsp;&nbsp;&nbsp;&nbsp;&nbsp;&nbsp;&nbsp;&nbsp;&nbsp;&nbsp;&nbsp;&nbsp;&nbsp;&nbsp;&nbsp;&nbsp;&nbsp;&nbsp;&nbsp;&nbsp;&nbsp;&nbsp; Guilherme Tamer Lotaif\n",
    "\n",
    "<br>\n",
    "\n",
    "\n",
    "## Análise Exploratoria de Dados"
   ]
  },
  {
   "cell_type": "markdown",
   "metadata": {},
   "source": [
    "### Introducão:\n",
    "\n",
    "&nbsp;&nbsp;&nbsp;&nbsp;&nbsp; O objetivo deste projeto é construir uma análise exploratória detalhada de diferentes países, dos quais podem pertencer ou não a uma determinada organização internacional. Tal análise será feita através de dados selecionados de diferentes anos, que serão extraidos do site www.gapminder.com.\n",
    "<br><br>\n",
    "&nbsp;&nbsp;&nbsp;&nbsp;&nbsp; A Organização escolhida foi a **OECD** (Organisation for Economic Co-operation and Development), que atualmente é constituida por 36 países, cuja maior parte de seus membros possui economias desenvolvidas, além disso, também contam com um alto nível de IDH (Indíce de desenvolvimento humano). A Organização economica intergovernamental foi fundada em 1961, com a finalidade de estimular o progresso econômico e o comércio mundial, e entre seus principais objetivos estão: O aumento do nível de vida; o desenvolvimento de empregos e o mantimento da estabilidade financeira.<br>\n",
    "&nbsp;&nbsp;&nbsp;&nbsp;&nbsp; Além da ajuda que a OECD fornece aos seus membros, ela também fornece seus conhecimentos com mais de 100 outros países e economias, dentre eles estão: Barasil, Russia, China e Africa do Sul, estes são considerados como parceiros da organização.\n",
    "<br><br>\n",
    "\n",
    "### Pergunta norteadora:\n",
    "&nbsp;&nbsp;&nbsp;&nbsp;&nbsp; **Será que os membros da OECD têm um crescimento no seu IDH e GDP per capita maior do que os países que não pertencem a organização? um possível crescimento poderia estar relacionado aos investimentos estrangeiros?**\n",
    "<br><br>\n",
    "\n",
    "### Hipóteses:\n",
    "\n",
    "- Os países membros da OECD podem não ter uma alteração substancial, após comecar a fazer parte da organização, uma vez que como as suas diretrizes não passam de meras sugestões, e portanto não são obrigatórias, como mencionado no artigo: [www.gresea.be](http://www.gresea.be/OECD-Guidelines-its-pros-and-cons) . Com esta ausência de comprometimento, as grandes empresas podem simplesmente ignorar os regulamentos da OECD, de maneira que a participação do país não gera uma mudança significativa no crescimento do PIB per capta, assim como o IDH.\n",
    "<br><br>\n",
    "- Ao se juntar a OECD o país se torna mais atrativo para os outros integrantes do grupo, decorrente do suporte que a organização fornece, este fato aumenta a confiabilidade do país em questão. Outro fator que atrai interesse dos outros membros, é o fato de possuirem as mesmas intenções e aspirações, que é comprovado pelo descritivo encontrado no site: [worldpopulationreview.com](http://worldpopulationreview.com/countries/oecd-countries/). Portanto podemos assumir que é provável a ocorrência do crescimento tanto do IDH quanto do PIB per capta.\n",
    "<br><br>"
   ]
  },
  {
   "cell_type": "markdown",
   "metadata": {},
   "source": [
    "___\n",
    "\n",
    "### Bibliotecas:\n",
    "\n",
    "Vamos importar as bibliotecas que serão necessarias para realizar nossas analises:"
   ]
  },
  {
   "cell_type": "code",
   "execution_count": 1,
   "metadata": {},
   "outputs": [],
   "source": [
    "#Importando bibliotecas:\n",
    "%matplotlib inline\n",
    "import os\n",
    "import pandas as pd\n",
    "import matplotlib.pyplot as plt\n",
    "import numpy as np\n",
    "import seaborn as sns\n",
    "import warnings\n",
    "\n",
    "plt.style.use('ggplot')\n",
    "sns.set_palette(\"RdYlBu\")"
   ]
  },
  {
   "cell_type": "code",
   "execution_count": 127,
   "metadata": {},
   "outputs": [],
   "source": [
    "warnings.filterwarnings(\"ignore\")"
   ]
  },
  {
   "cell_type": "markdown",
   "metadata": {},
   "source": [
    "___\n",
    "### 1. Importação e limpeza dos Arquivos\n",
    "\n",
    "Os bancos de dados selecionados para este projeto são:\n",
    "\n",
    "- [IDH (Índice de Desenvolvimento Humano)](https://docs.google.com/spreadsheet/pub?key=tyadrylIpQ1K_iHP407374Q)\n",
    "- [PIB (Produto Interno Bruto)](https://docs.google.com/spreadsheet/pub?key=0AkBd6lyS3EmpdHo5S0J6ekhVOF9QaVhod05QSGV4T3c)\n",
    "- [Foreign investment](https://docs.google.com/spreadsheets/d/1dHWaMTB9h7rdFI3DLZ3Pgpur2l3p2hgz93THK2oB8Jc/pub)\n",
    "\n",
    "#### Descrição:\n",
    "\n",
    "\n",
    "**IDH**: O Índice de Desenvolvimento Humano é utilizado como ferramenta de comparação entre os países. Tal indice é medido através dos seguintes marcadores: Anos médios de estudos(educação); Expectativa de vida da população(longevidade) e Produto Interno Bruto per capita. O relatório anual de IDH é feito pelo Programa das Nações Unidas para o Desenvolvimento, que é um orgão da ONU (Organização das Nações Unidas).\n",
    "<br><br>\n",
    "**PIB**: O Produto Interno Bruto é a soma em valores monetários dos serviços finais e bens produzidos em uma região, durante um período determinado. O PIB é um dos marcadores mais utilizados na macroeconomia, ele é medido através de três ópticas: a da despesa, da oferta e a do rendimento.\n",
    "<br><br>\n",
    "**Investimento estrangeiro**: Este ocorre quando uma companhia ou um individuo de uma nação investe em ações ou ativos de outra nação. Ter investimentos estrangeiros em seu país é um bom sinal, uma vez que este costuma estar relacionado ao crescimento de empregos e aumento salarial. Além de ser um forte indicador que a economia daquela nação é estavel.\n",
    "\n",
    "<br>"
   ]
  },
  {
   "cell_type": "code",
   "execution_count": 2,
   "metadata": {},
   "outputs": [],
   "source": [
    "#Imporatndo os arquivos de indicadores básicos:\n",
    "HDI = pd.read_excel('Indicator_HDI.xlsx')\n",
    "GDP = pd.read_excel('Indicator GDP at market prices.xlsx')\n",
    "\n",
    "#Imporatndo um arquivo específico:\n",
    "Foreign_investment = pd.read_excel(\"Foreign direct investment.xlsx\")"
   ]
  },
  {
   "cell_type": "markdown",
   "metadata": {},
   "source": [
    "...\n",
    "\n",
    "#### 1.1 Selecionando os anos que iremos análisar:<br>\n",
    "Para que o estudo tenha uma acurácia maior, temos que comparar dados de mais do que um único ano, no caso iremos análisar os dados dos anos de: **`1980`**,**`1990`**, **`2000`**, **`2009`**, em diferentes países. Além disso, temos que alterar o índice de cada dataset importado, para que nosso dataframe final fique mais limpo.\n"
   ]
  },
  {
   "cell_type": "code",
   "execution_count": 3,
   "metadata": {},
   "outputs": [],
   "source": [
    "#Selecionando o ano que iremos análisar dos indicadores básicos:\n",
    "HDI_years = HDI.loc[:, [\"HDI\",1980,1990,2000, 2009]]\n",
    "GDP_years = GDP.loc[:, [\"GDP (constant 2000 US$)\",1980,1990,2000, 2009]]\n",
    "\n",
    "#Selecionando o ano que iremos análisar do arquivo específico:\n",
    "Foreign_investment_years = Foreign_investment.loc[:, [\"country\",1980,1990,2000, 2009]]"
   ]
  },
  {
   "cell_type": "markdown",
   "metadata": {},
   "source": [
    "...\n",
    "\n",
    "####  Adicionando uma coluna no dataframe para dizer quem pertence à organização:\n",
    "\n",
    "Esta coluna irá possibilitar que sejam feitas comparações entre os países de dentro e fora da organização, que inclusive nos permite análisar a diferença que fez para os países que viraram membros neste meio tempo."
   ]
  },
  {
   "cell_type": "code",
   "execution_count": 4,
   "metadata": {},
   "outputs": [],
   "source": [
    "#Criando uma lista com os Países que fazem parte da OECD atualmente:\n",
    "Paises_OECD = [\"Australia\",\"Austria\",\"Belgium\",\"Canada\",\"Chile\",\"Czech Republic\",\"Denmark\",\"Estonia\",\"Finland\",\n",
    "               \"France\",\"Germany\",\"Greece\",\"Hungary\",\"Iceland\",\"Ireland\",\"Israel\",\"Italy\",\"Japan\",\"South Korea\",\n",
    "               \"Latvia\",\"Lithuania\",\"Luxembourg\",\"Mexico\",\"Netherlands\",\"New Zealand\",\"Norway\",\"Poland\",\"Portugal\",\n",
    "               \"Slovakia\",\"Slovenia\",\"Spain\",\"Sweden\",\"Switzerland\",\"Turkey\",\"United Kingdom\",\"United States\"]"
   ]
  },
  {
   "cell_type": "code",
   "execution_count": 5,
   "metadata": {},
   "outputs": [],
   "source": [
    "#Utilizando a lista de países para definirmos os membros em nossa nova coluna:\n",
    "for i in Paises_OECD:\n",
    "        HDI_years.loc[(HDI_years.iloc[:,0] == i), 'OECD'] = 'DENTRO'\n",
    "        GDP_years.loc[(GDP_years.iloc[:,0] == i), 'OECD'] = 'DENTRO'\n",
    "        Foreign_investment_years.loc[(Foreign_investment_years.iloc[:,0] == i), 'OECD'] = 'DENTRO'"
   ]
  },
  {
   "cell_type": "code",
   "execution_count": 6,
   "metadata": {},
   "outputs": [],
   "source": [
    "#Definindo os NaNs como países que nao pertencem a organização:\n",
    "HDI_years_oecd = HDI_years.iloc[:,-1].replace(np.nan, 'FORA', regex=True)\n",
    "GDP_years_oecd = GDP_years.iloc[:,-1].replace(np.nan, 'FORA', regex=True)\n",
    "Foreign_investment_years_oecd = Foreign_investment_years.iloc[:,-1].replace(np.nan, 'FORA', regex=True)"
   ]
  },
  {
   "cell_type": "code",
   "execution_count": 7,
   "metadata": {},
   "outputs": [],
   "source": [
    "#Juntando a nova coluna:\n",
    "#Removendo a coluna criada para a definição dos membros:\n",
    "HDI_years = HDI_years.join(HDI_years_oecd.to_frame(), how='inner', lsuffix='_DELETAR')\n",
    "HDI_years = HDI_years.drop(['OECD_DELETAR'], axis=1)\n",
    "\n",
    "GDP_years = GDP_years.join(GDP_years_oecd.to_frame(), how='inner', lsuffix='_DELETAR')\n",
    "GDP_years = GDP_years.drop(['OECD_DELETAR'], axis=1)\n",
    "\n",
    "Foreign_investment_years = Foreign_investment_years.join(Foreign_investment_years_oecd.to_frame(), how='inner', lsuffix='_DELETAR')\n",
    "Foreign_investment_years = Foreign_investment_years.drop(['OECD_DELETAR'], axis=1)"
   ]
  },
  {
   "cell_type": "code",
   "execution_count": 8,
   "metadata": {},
   "outputs": [
    {
     "data": {
      "text/html": [
       "<div>\n",
       "<style scoped>\n",
       "    .dataframe tbody tr th:only-of-type {\n",
       "        vertical-align: middle;\n",
       "    }\n",
       "\n",
       "    .dataframe tbody tr th {\n",
       "        vertical-align: top;\n",
       "    }\n",
       "\n",
       "    .dataframe thead th {\n",
       "        text-align: right;\n",
       "    }\n",
       "</style>\n",
       "<table border=\"1\" class=\"dataframe\">\n",
       "  <thead>\n",
       "    <tr style=\"text-align: right;\">\n",
       "      <th></th>\n",
       "      <th>HDI</th>\n",
       "      <th>1980</th>\n",
       "      <th>1990</th>\n",
       "      <th>2000</th>\n",
       "      <th>2009</th>\n",
       "      <th>OECD</th>\n",
       "    </tr>\n",
       "  </thead>\n",
       "  <tbody>\n",
       "    <tr>\n",
       "      <th>113</th>\n",
       "      <td>Kazakhstan</td>\n",
       "      <td>NaN</td>\n",
       "      <td>NaN</td>\n",
       "      <td>0.657</td>\n",
       "      <td>0.733</td>\n",
       "      <td>FORA</td>\n",
       "    </tr>\n",
       "  </tbody>\n",
       "</table>\n",
       "</div>"
      ],
      "text/plain": [
       "            HDI  1980  1990   2000   2009  OECD\n",
       "113  Kazakhstan   NaN   NaN  0.657  0.733  FORA"
      ]
     },
     "execution_count": 8,
     "metadata": {},
     "output_type": "execute_result"
    }
   ],
   "source": [
    "#Vamos plotar um exemplo de um dos nossos dataframes:\n",
    "HDI_years.sample()"
   ]
  },
  {
   "cell_type": "markdown",
   "metadata": {},
   "source": [
    "...\n",
    "\n",
    "#### 1.2 Criando um Dataframe para cada ano:<br>\n",
    "A partir dos datasets unitarios, com as informações dos países nos diferentes anos, será criado um dataframe que nos possibilitará fazer a análise explotratória, e com isso responder a pergunta feita no começo do projeto."
   ]
  },
  {
   "cell_type": "code",
   "execution_count": 10,
   "metadata": {},
   "outputs": [],
   "source": [
    "#Juntando todos datasets de 1990 em um dataframe:\n",
    "df_1980 = HDI_years.iloc[:, 0].to_frame().join(HDI_years.iloc[:, 1].to_frame(), how='inner', lsuffix='PAÍSES', rsuffix='_GDP')\n",
    "df_1980 = df_1980.join(GDP_years.iloc[:,1].to_frame(), how='inner', lsuffix='_GDP')\n",
    "df_1980 = df_1980.join(Foreign_investment_years.iloc[:, 1].to_frame(), how='inner', lsuffix='FOREIGN INVESTMENT')"
   ]
  },
  {
   "cell_type": "code",
   "execution_count": 11,
   "metadata": {},
   "outputs": [],
   "source": [
    "#Juntando todos datasets de 1990 em um dataframe:\n",
    "df_1990 = HDI_years.iloc[:, 0].to_frame().join(HDI_years.iloc[:, 2].to_frame(), how='inner', lsuffix='PAÍSES', rsuffix='_GDP')\n",
    "df_1990 = df_1990.join(GDP_years.iloc[:,2].to_frame(), how='inner', lsuffix='_GDP')\n",
    "df_1990 = df_1990.join(Foreign_investment_years.iloc[:, 2].to_frame(), how='inner', lsuffix='FOREIGN INVESTMENT')"
   ]
  },
  {
   "cell_type": "code",
   "execution_count": 12,
   "metadata": {},
   "outputs": [],
   "source": [
    "#Juntando todos datasets de 2000 em um dataframe:\n",
    "df_2000 = HDI_years.iloc[:, 0].to_frame().join(HDI_years.iloc[:,3].to_frame(), how='inner', lsuffix='PAÍSES', rsuffix='_GDP')\n",
    "df_2000 = df_2000.join(GDP_years.iloc[:,3].to_frame(), how='inner', rsuffix='_GDP')\n",
    "df_2000 = df_2000.join(Foreign_investment_years.iloc[:, 3].to_frame(), how='inner', lsuffix='FOREIGN INVESTMENT')"
   ]
  },
  {
   "cell_type": "code",
   "execution_count": 13,
   "metadata": {},
   "outputs": [],
   "source": [
    "#Juntando todos datasets de 2009 em um dataframe:\n",
    "df_2009 = HDI_years.iloc[:, 0].to_frame().join(HDI_years.iloc[:,4].to_frame(), how='inner', lsuffix='PAÍSES', rsuffix='_GDP')\n",
    "df_2009 = df_2009.join(GDP_years.iloc[:, 4].to_frame(), how='inner', lsuffix='_GDP')\n",
    "df_2009 = df_2009.join(Foreign_investment_years.iloc[:, 4].to_frame(), how='inner', lsuffix='FOREIGN INVESTMENT')"
   ]
  },
  {
   "cell_type": "code",
   "execution_count": 14,
   "metadata": {},
   "outputs": [],
   "source": [
    "#Renomeando as colunas dos dataframes com os devidos nomes:\n",
    "df_1980.columns, df_1990.columns ,df_2000.columns, df_2009.columns = [\"PAÍSES\",\"HDI\",\"GDP\",\"FOREIGN INVESTMENT\"\n",
    "                                                                   ],[\"PAÍSES\",\"HDI\",\"GDP\",\"FOREIGN INVESTMENT\"\n",
    "                                                                   ],[\"PAÍSES\",\"HDI\",\"GDP\",\"FOREIGN INVESTMENT\"\n",
    "                                                                   ],[\"PAÍSES\",\"HDI\",\"GDP\",\"FOREIGN INVESTMENT\"]"
   ]
  },
  {
   "cell_type": "markdown",
   "metadata": {},
   "source": [
    "...\n",
    "\n",
    "#### 1.2.1 Adicionando uma coluna no dataframe para dizer quem pertence à organização:\n",
    "\n",
    "Este passo é importante para que consigamos fazer as devidas comparações entre os diferentes grupos de países com os membros ds `OECD`."
   ]
  },
  {
   "cell_type": "code",
   "execution_count": 15,
   "metadata": {},
   "outputs": [],
   "source": [
    "#Utilizando a lista de países para definirmos os membros em nossa nova coluna:\n",
    "for i in Paises_OECD:\n",
    "        df_1980.loc[(df_1980.iloc[:,0] == i), 'OECD'] = 'DENTRO'\n",
    "        df_1990.loc[(df_1990.iloc[:,0] == i), 'OECD'] = 'DENTRO'\n",
    "        df_2000.loc[(df_2000.iloc[:,0] == i), 'OECD'] = 'DENTRO'\n",
    "        df_2009.loc[(df_2009.iloc[:,0] == i), 'OECD'] = 'DENTRO'"
   ]
  },
  {
   "cell_type": "code",
   "execution_count": 16,
   "metadata": {},
   "outputs": [],
   "source": [
    "#Definindo os NaNs como países que nao pertencem a organização:\n",
    "df_1980_oecd = df_1980.iloc[:,-1].replace(np.nan, 'FORA', regex=True)\n",
    "df_1990_oecd = df_1990.iloc[:,-1].replace(np.nan, 'FORA', regex=True)\n",
    "df_2000_oecd = df_2000.iloc[:,-1].replace(np.nan, 'FORA', regex=True)\n",
    "df_2009_oecd = df_2009.iloc[:,-1].replace(np.nan, 'FORA', regex=True)"
   ]
  },
  {
   "cell_type": "code",
   "execution_count": 17,
   "metadata": {},
   "outputs": [],
   "source": [
    "#Juntando a nova coluna:\n",
    "#Removendo a coluna criada para a definição dos membros\n",
    "df_1980 = df_1980.join(df_1980_oecd.to_frame(), how='inner', lsuffix='_DELETAR')\n",
    "df_1980 = df_1980.drop(['OECD_DELETAR'], axis=1)\n",
    "\n",
    "df_1990 = df_1990.join(df_1990_oecd.to_frame(), how='inner', lsuffix='_DELETAR')\n",
    "df_1990 = df_1990.drop(['OECD_DELETAR'], axis=1)\n",
    "\n",
    "df_2000 = df_2000.join(df_1990_oecd.to_frame(), how='inner', lsuffix='_DELETAR')\n",
    "df_2000 = df_2000.drop(['OECD_DELETAR'], axis=1)\n",
    "\n",
    "df_2009 = df_2009.join(df_1990_oecd.to_frame(), how='inner', lsuffix='_DELETAR')\n",
    "df_2009 = df_2009.drop(['OECD_DELETAR'], axis=1)"
   ]
  },
  {
   "cell_type": "code",
   "execution_count": 18,
   "metadata": {},
   "outputs": [
    {
     "data": {
      "text/html": [
       "<div>\n",
       "<style scoped>\n",
       "    .dataframe tbody tr th:only-of-type {\n",
       "        vertical-align: middle;\n",
       "    }\n",
       "\n",
       "    .dataframe tbody tr th {\n",
       "        vertical-align: top;\n",
       "    }\n",
       "\n",
       "    .dataframe thead th {\n",
       "        text-align: right;\n",
       "    }\n",
       "</style>\n",
       "<table border=\"1\" class=\"dataframe\">\n",
       "  <thead>\n",
       "    <tr style=\"text-align: right;\">\n",
       "      <th></th>\n",
       "      <th>PAÍSES</th>\n",
       "      <th>HDI</th>\n",
       "      <th>GDP</th>\n",
       "      <th>FOREIGN INVESTMENT</th>\n",
       "      <th>OECD</th>\n",
       "    </tr>\n",
       "  </thead>\n",
       "  <tbody>\n",
       "    <tr>\n",
       "      <th>130</th>\n",
       "      <td>Luxembourg</td>\n",
       "      <td>0.728</td>\n",
       "      <td>7.649173e+09</td>\n",
       "      <td>0.148</td>\n",
       "      <td>DENTRO</td>\n",
       "    </tr>\n",
       "    <tr>\n",
       "      <th>84</th>\n",
       "      <td>Gibraltar</td>\n",
       "      <td>NaN</td>\n",
       "      <td>NaN</td>\n",
       "      <td>1.090</td>\n",
       "      <td>FORA</td>\n",
       "    </tr>\n",
       "  </tbody>\n",
       "</table>\n",
       "</div>"
      ],
      "text/plain": [
       "         PAÍSES    HDI           GDP  FOREIGN INVESTMENT    OECD\n",
       "130  Luxembourg  0.728  7.649173e+09               0.148  DENTRO\n",
       "84    Gibraltar    NaN           NaN               1.090    FORA"
      ]
     },
     "execution_count": 18,
     "metadata": {},
     "output_type": "execute_result"
    }
   ],
   "source": [
    "#Vamos plotar um exemplo de um dos nossos dataframes:\n",
    "df_1980.sample(2)"
   ]
  },
  {
   "cell_type": "markdown",
   "metadata": {},
   "source": [
    "<br>\n",
    "\n",
    "___\n",
    "\n",
    "### 2. Análise Exploratória:\n",
    "\n",
    "Para que seja possível comparar o desenvolvimento dos países de fora do OECD com os que pertencem a organização, é necessário declarar quais países pertencem a que grupo a ser avaliado, portanto primeiro vamos separar o nosso dataframe inicial em dois."
   ]
  },
  {
   "cell_type": "code",
   "execution_count": 19,
   "metadata": {},
   "outputs": [],
   "source": [
    "#Criando um dataframe com os dados obtidos do IDH dos Países dentro da Organização:\n",
    "HDI_in = HDI_years.drop(HDI_years.loc[HDI_years['OECD']== \"FORA\"].index)"
   ]
  },
  {
   "cell_type": "code",
   "execution_count": 20,
   "metadata": {},
   "outputs": [],
   "source": [
    "#Criando um dataframe com os dados obtidos do IDH dos Países fora da Organização:\n",
    "HDI_out = HDI_years.drop(HDI_years.loc[HDI_years['OECD']== \"DENTRO\"].index)"
   ]
  },
  {
   "cell_type": "markdown",
   "metadata": {},
   "source": [
    "...\n",
    "\n",
    "#### 2.1 Analise do crescimento do IDH:\n",
    "\n",
    "Vamos começar analisando o crescimento do`IDH` dos países dentro e fora da **OECD**:"
   ]
  },
  {
   "cell_type": "code",
   "execution_count": 21,
   "metadata": {},
   "outputs": [
    {
     "name": "stdout",
     "output_type": "stream",
     "text": [
      "Países de fora da OECD:\n"
     ]
    },
    {
     "data": {
      "text/html": [
       "<div>\n",
       "<style scoped>\n",
       "    .dataframe tbody tr th:only-of-type {\n",
       "        vertical-align: middle;\n",
       "    }\n",
       "\n",
       "    .dataframe tbody tr th {\n",
       "        vertical-align: top;\n",
       "    }\n",
       "\n",
       "    .dataframe thead th {\n",
       "        text-align: right;\n",
       "    }\n",
       "</style>\n",
       "<table border=\"1\" class=\"dataframe\">\n",
       "  <thead>\n",
       "    <tr style=\"text-align: right;\">\n",
       "      <th></th>\n",
       "      <th>1980</th>\n",
       "      <th>1990</th>\n",
       "      <th>2000</th>\n",
       "      <th>2009</th>\n",
       "    </tr>\n",
       "  </thead>\n",
       "  <tbody>\n",
       "    <tr>\n",
       "      <th>count</th>\n",
       "      <td>77.000</td>\n",
       "      <td>92.000</td>\n",
       "      <td>118.000</td>\n",
       "      <td>139.000</td>\n",
       "    </tr>\n",
       "    <tr>\n",
       "      <th>mean</th>\n",
       "      <td>0.455</td>\n",
       "      <td>0.511</td>\n",
       "      <td>0.552</td>\n",
       "      <td>0.602</td>\n",
       "    </tr>\n",
       "    <tr>\n",
       "      <th>std</th>\n",
       "      <td>0.149</td>\n",
       "      <td>0.158</td>\n",
       "      <td>0.161</td>\n",
       "      <td>0.155</td>\n",
       "    </tr>\n",
       "    <tr>\n",
       "      <th>min</th>\n",
       "      <td>0.174</td>\n",
       "      <td>0.193</td>\n",
       "      <td>0.224</td>\n",
       "      <td>0.277</td>\n",
       "    </tr>\n",
       "    <tr>\n",
       "      <th>25%</th>\n",
       "      <td>0.335</td>\n",
       "      <td>0.374</td>\n",
       "      <td>0.421</td>\n",
       "      <td>0.466</td>\n",
       "    </tr>\n",
       "    <tr>\n",
       "      <th>50%</th>\n",
       "      <td>0.451</td>\n",
       "      <td>0.537</td>\n",
       "      <td>0.584</td>\n",
       "      <td>0.636</td>\n",
       "    </tr>\n",
       "    <tr>\n",
       "      <th>75%</th>\n",
       "      <td>0.564</td>\n",
       "      <td>0.636</td>\n",
       "      <td>0.678</td>\n",
       "      <td>0.728</td>\n",
       "    </tr>\n",
       "    <tr>\n",
       "      <th>max</th>\n",
       "      <td>0.750</td>\n",
       "      <td>0.786</td>\n",
       "      <td>0.824</td>\n",
       "      <td>0.888</td>\n",
       "    </tr>\n",
       "  </tbody>\n",
       "</table>\n",
       "</div>"
      ],
      "text/plain": [
       "         1980    1990     2000     2009\n",
       "count  77.000  92.000  118.000  139.000\n",
       "mean    0.455   0.511    0.552    0.602\n",
       "std     0.149   0.158    0.161    0.155\n",
       "min     0.174   0.193    0.224    0.277\n",
       "25%     0.335   0.374    0.421    0.466\n",
       "50%     0.451   0.537    0.584    0.636\n",
       "75%     0.564   0.636    0.678    0.728\n",
       "max     0.750   0.786    0.824    0.888"
      ]
     },
     "execution_count": 21,
     "metadata": {},
     "output_type": "execute_result"
    }
   ],
   "source": [
    "#Vamos checar como foi o crescimento dos países que não fazem parte da organização:\n",
    "print(\"Países de fora da OECD:\")\n",
    "HDI_out.describe().round(3)"
   ]
  },
  {
   "cell_type": "code",
   "execution_count": 22,
   "metadata": {},
   "outputs": [
    {
     "name": "stdout",
     "output_type": "stream",
     "text": [
      "Países dentro da OECD:\n"
     ]
    },
    {
     "data": {
      "text/html": [
       "<div>\n",
       "<style scoped>\n",
       "    .dataframe tbody tr th:only-of-type {\n",
       "        vertical-align: middle;\n",
       "    }\n",
       "\n",
       "    .dataframe tbody tr th {\n",
       "        vertical-align: top;\n",
       "    }\n",
       "\n",
       "    .dataframe thead th {\n",
       "        text-align: right;\n",
       "    }\n",
       "</style>\n",
       "<table border=\"1\" class=\"dataframe\">\n",
       "  <thead>\n",
       "    <tr style=\"text-align: right;\">\n",
       "      <th></th>\n",
       "      <th>1980</th>\n",
       "      <th>1990</th>\n",
       "      <th>2000</th>\n",
       "      <th>2009</th>\n",
       "    </tr>\n",
       "  </thead>\n",
       "  <tbody>\n",
       "    <tr>\n",
       "      <th>count</th>\n",
       "      <td>29.000</td>\n",
       "      <td>31.000</td>\n",
       "      <td>35.000</td>\n",
       "      <td>35.000</td>\n",
       "    </tr>\n",
       "    <tr>\n",
       "      <th>mean</th>\n",
       "      <td>0.734</td>\n",
       "      <td>0.776</td>\n",
       "      <td>0.828</td>\n",
       "      <td>0.864</td>\n",
       "    </tr>\n",
       "    <tr>\n",
       "      <th>std</th>\n",
       "      <td>0.081</td>\n",
       "      <td>0.068</td>\n",
       "      <td>0.061</td>\n",
       "      <td>0.052</td>\n",
       "    </tr>\n",
       "    <tr>\n",
       "      <th>min</th>\n",
       "      <td>0.463</td>\n",
       "      <td>0.558</td>\n",
       "      <td>0.634</td>\n",
       "      <td>0.690</td>\n",
       "    </tr>\n",
       "    <tr>\n",
       "      <th>25%</th>\n",
       "      <td>0.717</td>\n",
       "      <td>0.746</td>\n",
       "      <td>0.790</td>\n",
       "      <td>0.844</td>\n",
       "    </tr>\n",
       "    <tr>\n",
       "      <th>50%</th>\n",
       "      <td>0.744</td>\n",
       "      <td>0.790</td>\n",
       "      <td>0.839</td>\n",
       "      <td>0.879</td>\n",
       "    </tr>\n",
       "    <tr>\n",
       "      <th>75%</th>\n",
       "      <td>0.785</td>\n",
       "      <td>0.821</td>\n",
       "      <td>0.871</td>\n",
       "      <td>0.899</td>\n",
       "    </tr>\n",
       "    <tr>\n",
       "      <th>max</th>\n",
       "      <td>0.850</td>\n",
       "      <td>0.873</td>\n",
       "      <td>0.913</td>\n",
       "      <td>0.941</td>\n",
       "    </tr>\n",
       "  </tbody>\n",
       "</table>\n",
       "</div>"
      ],
      "text/plain": [
       "         1980    1990    2000    2009\n",
       "count  29.000  31.000  35.000  35.000\n",
       "mean    0.734   0.776   0.828   0.864\n",
       "std     0.081   0.068   0.061   0.052\n",
       "min     0.463   0.558   0.634   0.690\n",
       "25%     0.717   0.746   0.790   0.844\n",
       "50%     0.744   0.790   0.839   0.879\n",
       "75%     0.785   0.821   0.871   0.899\n",
       "max     0.850   0.873   0.913   0.941"
      ]
     },
     "execution_count": 22,
     "metadata": {},
     "output_type": "execute_result"
    }
   ],
   "source": [
    "#Vamos checar como foi o crescimento dos países que fazem parte da organização:\n",
    "print(\"Países dentro da OECD:\")\n",
    "HDI_in.describe().round(3)"
   ]
  },
  {
   "cell_type": "markdown",
   "metadata": {},
   "source": [
    "Vemos de maneira breve que os dados coletados ao longo dos anos de IDH de países fora do OECD cresceu, e durante este mesmo periodo, 6 países se tronaram membros desta instituição.\n"
   ]
  },
  {
   "cell_type": "markdown",
   "metadata": {},
   "source": [
    "...\n",
    "\n",
    "<br>\n",
    "\n",
    "#### Estudo das distribuições do IDH:\n",
    "<br>\n",
    "\n",
    "Vamos começar esta análise com histogramas de cada ano, isolando os países que fazem parte da **OECD** . Para que possamos prosseguir, antes é necessário definirmos o espaço que os nossos dados usam, por isso vamos descobrir a amplitude da classe:"
   ]
  },
  {
   "cell_type": "code",
   "execution_count": 23,
   "metadata": {},
   "outputs": [
    {
     "name": "stdout",
     "output_type": "stream",
     "text": [
      "Amplitude da classe: 0.047\n"
     ]
    }
   ],
   "source": [
    "#Determinando a amplitude da classe dos países de fora da organização:\n",
    "n = np.sqrt(len(HDI_years.iloc[:,1]))\n",
    "amplitude = (HDI_years.iloc[:,4].max() - HDI_years.iloc[:,1].min())/n\n",
    "print('Amplitude da classe: {:.3f}'.format(amplitude))"
   ]
  },
  {
   "cell_type": "code",
   "execution_count": 24,
   "metadata": {},
   "outputs": [],
   "source": [
    "#Determinando a faixa para plotar os gráficos:\n",
    "#Usando amplitude igual a 0.5:\n",
    "faixa = np.arange(0.1,0.98,0.05)"
   ]
  },
  {
   "cell_type": "code",
   "execution_count": 25,
   "metadata": {},
   "outputs": [
    {
     "data": {
      "image/png": "[encoded data removed]",
      "text/plain": [
       "<Figure size 1368x360 with 4 Axes>"
      ]
     },
     "metadata": {
      "needs_background": "light"
     },
     "output_type": "display_data"
    },
    {
     "data": {
      "image/png": "[encoded data removed]",
      "text/plain": [
       "<Figure size 1368x360 with 4 Axes>"
      ]
     },
     "metadata": {
      "needs_background": "light"
     },
     "output_type": "display_data"
    }
   ],
   "source": [
    "#Vamos plotar histogramas de IDH dos países ao longo do tempo:\n",
    "fig = plt.figure(figsize=(19, 5))\n",
    "plt.subplot(141)\n",
    "HDI_11 = HDI_out.iloc[:,1].plot.hist(bins = faixa, density = True, color ='firebrick', alpha =0.7, rwidth =0.83)\n",
    "plt.title(\"\\nPaíses fora do OECD - 1980\",size=18)\n",
    "plt.ylabel('Densidade')\n",
    "plt.xlabel(' ')\n",
    "HDI_11.set(ylim=(0,12))\n",
    "\n",
    "plt.subplot(142)\n",
    "HDI_12 = HDI_out.iloc[:,2].plot.hist(bins = faixa, density = True, color ='orangered', alpha =0.6, rwidth =0.83)\n",
    "plt.title(\"\\nPaíses fora do OECD - 1990\",size=18)\n",
    "plt.ylabel(' ')\n",
    "plt.xlabel(' ')\n",
    "HDI_12.set(ylim=(0,12))\n",
    "\n",
    "plt.subplot(143)\n",
    "HDI_13 = HDI_out.iloc[:,3].plot.hist(bins = faixa, density = True, color ='orange', alpha =0.8, rwidth =0.83) \n",
    "plt.title(\"\\nPaíses fora do OECD - 2000\",size=18)\n",
    "plt.ylabel(' ')\n",
    "plt.xlabel(' ')\n",
    "HDI_13.set(ylim=(0,12))\n",
    "\n",
    "plt.subplot(144)\n",
    "HDI_14 = HDI_out.iloc[:,4].plot.hist(bins = faixa, density = True, color ='gold', alpha =0.9, rwidth =0.83)\n",
    "plt.title(\"\\nPaíses fora do OECD - 2009\",size=18)\n",
    "plt.ylabel(' ')\n",
    "plt.xlabel(' ')\n",
    "HDI_14.set(ylim=(0,12))\n",
    "plt.tight_layout()\n",
    "plt.show()\n",
    "\n",
    "fig = plt.figure(figsize=(19, 5))\n",
    "plt.subplot(141)\n",
    "HDI_21 = HDI_in.iloc[:,1].plot.hist(bins = faixa, density = True, color ='firebrick', alpha =0.7, rwidth =0.83)\n",
    "plt.title(\"Países dentro do OECD - 1980\",size=18)\n",
    "plt.ylabel('Densidade',size=14)\n",
    "plt.xlabel('IDH')\n",
    "HDI_21.set(ylim=(0,12))\n",
    "\n",
    "plt.subplot(142)\n",
    "HDI_22 = HDI_in.iloc[:,2].plot.hist(bins = faixa, density = True, color ='orangered', alpha =0.6, rwidth =0.83)\n",
    "plt.title(\"Países dentro do OECD - 1990\",size=18)\n",
    "plt.ylabel(' ')\n",
    "plt.xlabel('IDH')\n",
    "HDI_22.set(ylim=(0,12))\n",
    "\n",
    "plt.subplot(143)\n",
    "HDI_23 = HDI_in.iloc[:,3].plot.hist(bins = faixa, density = True, color ='orange', alpha =0.8, rwidth =0.83) \n",
    "plt.title(\"Países dentro do OECD - 2000\",size=18)\n",
    "plt.ylabel(' ')\n",
    "plt.xlabel('IDH')\n",
    "HDI_23.set(ylim=(0,12))\n",
    "\n",
    "plt.subplot(144)\n",
    "HDI_24 = HDI_in.iloc[:,4].plot.hist(bins = faixa, density = True, color ='gold', alpha =0.9, rwidth =0.83)\n",
    "plt.title(\"Países dentro do OECD - 2009\",size=18)\n",
    "plt.ylabel(' ')\n",
    "plt.xlabel('IDH')\n",
    "HDI_24.set(ylim=(0,12))\n",
    "plt.tight_layout()\n",
    "plt.show()"
   ]
  },
  {
   "cell_type": "markdown",
   "metadata": {},
   "source": [
    "Podemos observar que dentre os países análisados, os que pertencem à **OECD** possuem uma assimetria a esquerda e uma alta densidade de países com um IDH mais elevado. Já os países que não fazem parte da organização possuem uma distribuição com maior dispersão dos países, portanto tem uma quantidade grande de países mas eles ficam distribuidos desde um IDH bem pequeno até um grande.\n",
    "\n",
    "<br>"
   ]
  },
  {
   "cell_type": "markdown",
   "metadata": {},
   "source": [
    "...\n",
    "\n",
    "#### Vamos checar de maneira mais organizada e clara estes dados:\n",
    "\n",
    "<br>\n",
    "Nesta parte vamos usar medidas especificas de cada ano dos dataframes para enriquecer nosso estudo, além disso, vamos separar os países que pertencem a organização e os países que não pertencem, as medidas são: O valor da média; O valor da mediana; o valor do desvio padrão; os valor maximo e também o valor mínimo."
   ]
  },
  {
   "cell_type": "code",
   "execution_count": 26,
   "metadata": {},
   "outputs": [],
   "source": [
    "#Criando uma lista com os valores das médias de cada ano:\n",
    "HDI_Average_ = [\"Média\",\"{:.2f}\".format(HDI_out.iloc[:,1].mean()), \"{:.2f}\".format(HDI_out.iloc[:,2].mean()),\n",
    "               \"{:.2f}\".format(HDI_out.iloc[:,3].mean()),\"{:.2f}\".format(HDI_out.iloc[:,4].mean()),\"\",\"|\",\"\",\n",
    "               \"{:.2f}\".format(HDI_in.iloc[:,1].mean()),\"{:.2f}\".format(HDI_in.iloc[:,2].mean()),\n",
    "               \"{:.2f}\".format(HDI_in.iloc[:,3].mean()),\"{:.2f}\".format(HDI_in.iloc[:,4].mean())]\n",
    "#Criando uma lista com os valores das medianas de cada ano:\n",
    "HDI_Median = [\"Mediana\",\"{:.2f}\".format(HDI_out.iloc[:,1].median()), \"{:.2f}\".format(HDI_out.iloc[:,2].median()),\n",
    "              \"{:.2f}\".format(HDI_out.iloc[:,3].median()),\"{:.2f}\".format(HDI_out.iloc[:,4].median()),\"\",\"|\",\"\",\n",
    "              \"{:.2f}\".format(HDI_in.iloc[:,1].median()),\"{:.2f}\".format(HDI_in.iloc[:,2].median()),\n",
    "              \"{:.2f}\".format(HDI_in.iloc[:,3].median()),\"{:.2f}\".format(HDI_in.iloc[:,4].median())]\n",
    "HDI_SD = [\"Desvio Padrão\",\"{:.2f}\".format(HDI_out.iloc[:,1].std()), \"{:.2f}\".format(HDI_out.iloc[:,2].std()),\n",
    "               \"{:.2f}\".format(HDI_out.iloc[:,3].std()),\"{:.2f}\".format(HDI_out.iloc[:,4].std()),\"\",\"|\",\"\",\n",
    "               \"{:.2f}\".format(HDI_in.iloc[:,1].std()),\"{:.2f}\".format(HDI_in.iloc[:,2].std()),\n",
    "               \"{:.2f}\".format(HDI_in.iloc[:,3].std()),\"{:.2f}\".format(HDI_in.iloc[:,4].std())]\n",
    "#Criando uma lista com os valores Minimos de cada ano:\n",
    "HDI_Min = [\"Mínimo\",\"{:.2f}\".format(HDI_out.iloc[:,1].min()), \"{:.2f}\".format(HDI_out.iloc[:,2].min()),\n",
    "              \"{:.2f}\".format(HDI_out.iloc[:,3].min()),\"{:.2f}\".format(HDI_out.iloc[:,4].min()),\"\",\"|\",\n",
    "              \"\",\"{:.2f}\".format(HDI_in.iloc[:,1].min()),\"{:.2f}\".format(HDI_in.iloc[:,2].min()),\n",
    "              \"{:.2f}\".format(HDI_in.iloc[:,3].min()),\"{:.2f}\".format(HDI_in.iloc[:,4].min())]\n",
    "#Criando uma lista com os valores Maximos de cada ano:\n",
    "HDI_Max = [\"Máximo\",\"{:.2f}\".format(HDI_out.iloc[:,1].max()), \"{:.2f}\".format(HDI_out.iloc[:,2].max()),\n",
    "              \"{:.2f}\".format(HDI_out.iloc[:,3].max()),\"{:.2f}\".format(HDI_out.iloc[:,4].max()),\"\",\"|\",\n",
    "              \"\",\"{:.2f}\".format(HDI_in.iloc[:,1].max()),\"{:.2f}\".format(HDI_in.iloc[:,2].max()),\n",
    "              \"{:.2f}\".format(HDI_in.iloc[:,3].max()),\"{:.2f}\".format(HDI_in.iloc[:,4].max())]"
   ]
  },
  {
   "cell_type": "code",
   "execution_count": 72,
   "metadata": {},
   "outputs": [
    {
     "data": {
      "text/html": [
       "<div>\n",
       "<style scoped>\n",
       "    .dataframe tbody tr th:only-of-type {\n",
       "        vertical-align: middle;\n",
       "    }\n",
       "\n",
       "    .dataframe tbody tr th {\n",
       "        vertical-align: top;\n",
       "    }\n",
       "\n",
       "    .dataframe thead th {\n",
       "        text-align: right;\n",
       "    }\n",
       "</style>\n",
       "<table border=\"1\" class=\"dataframe\">\n",
       "  <thead>\n",
       "    <tr style=\"text-align: right;\">\n",
       "      <th></th>\n",
       "      <th>FORA_1980</th>\n",
       "      <th>FORA_1990</th>\n",
       "      <th>FORA_2000</th>\n",
       "      <th>FORA_2009</th>\n",
       "      <th></th>\n",
       "      <th>|</th>\n",
       "      <th></th>\n",
       "      <th>MEMBRO_1990</th>\n",
       "      <th>MEMBRO_1990</th>\n",
       "      <th>MEMBRO_2000</th>\n",
       "      <th>MEMBRO_2009</th>\n",
       "    </tr>\n",
       "    <tr>\n",
       "      <th>HDI</th>\n",
       "      <th></th>\n",
       "      <th></th>\n",
       "      <th></th>\n",
       "      <th></th>\n",
       "      <th></th>\n",
       "      <th></th>\n",
       "      <th></th>\n",
       "      <th></th>\n",
       "      <th></th>\n",
       "      <th></th>\n",
       "      <th></th>\n",
       "    </tr>\n",
       "  </thead>\n",
       "  <tbody>\n",
       "    <tr>\n",
       "      <th>Média</th>\n",
       "      <td>0.46</td>\n",
       "      <td>0.51</td>\n",
       "      <td>0.55</td>\n",
       "      <td>0.60</td>\n",
       "      <td></td>\n",
       "      <td>|</td>\n",
       "      <td></td>\n",
       "      <td>0.73</td>\n",
       "      <td>0.78</td>\n",
       "      <td>0.83</td>\n",
       "      <td>0.86</td>\n",
       "    </tr>\n",
       "    <tr>\n",
       "      <th>Mediana</th>\n",
       "      <td>0.45</td>\n",
       "      <td>0.54</td>\n",
       "      <td>0.58</td>\n",
       "      <td>0.64</td>\n",
       "      <td></td>\n",
       "      <td>|</td>\n",
       "      <td></td>\n",
       "      <td>0.74</td>\n",
       "      <td>0.79</td>\n",
       "      <td>0.84</td>\n",
       "      <td>0.88</td>\n",
       "    </tr>\n",
       "    <tr>\n",
       "      <th>Desvio Padrão</th>\n",
       "      <td>0.15</td>\n",
       "      <td>0.16</td>\n",
       "      <td>0.16</td>\n",
       "      <td>0.16</td>\n",
       "      <td></td>\n",
       "      <td>|</td>\n",
       "      <td></td>\n",
       "      <td>0.08</td>\n",
       "      <td>0.07</td>\n",
       "      <td>0.06</td>\n",
       "      <td>0.05</td>\n",
       "    </tr>\n",
       "    <tr>\n",
       "      <th>Mínimo</th>\n",
       "      <td>0.17</td>\n",
       "      <td>0.19</td>\n",
       "      <td>0.22</td>\n",
       "      <td>0.28</td>\n",
       "      <td></td>\n",
       "      <td>|</td>\n",
       "      <td></td>\n",
       "      <td>0.46</td>\n",
       "      <td>0.56</td>\n",
       "      <td>0.63</td>\n",
       "      <td>0.69</td>\n",
       "    </tr>\n",
       "    <tr>\n",
       "      <th>Máximo</th>\n",
       "      <td>0.75</td>\n",
       "      <td>0.79</td>\n",
       "      <td>0.82</td>\n",
       "      <td>0.89</td>\n",
       "      <td></td>\n",
       "      <td>|</td>\n",
       "      <td></td>\n",
       "      <td>0.85</td>\n",
       "      <td>0.87</td>\n",
       "      <td>0.91</td>\n",
       "      <td>0.94</td>\n",
       "    </tr>\n",
       "  </tbody>\n",
       "</table>\n",
       "</div>"
      ],
      "text/plain": [
       "              FORA_1980 FORA_1990 FORA_2000 FORA_2009    |   MEMBRO_1990  \\\n",
       "HDI                                                                        \n",
       "Média              0.46      0.51      0.55      0.60    |          0.73   \n",
       "Mediana            0.45      0.54      0.58      0.64    |          0.74   \n",
       "Desvio Padrão      0.15      0.16      0.16      0.16    |          0.08   \n",
       "Mínimo             0.17      0.19      0.22      0.28    |          0.46   \n",
       "Máximo             0.75      0.79      0.82      0.89    |          0.85   \n",
       "\n",
       "              MEMBRO_1990 MEMBRO_2000 MEMBRO_2009  \n",
       "HDI                                                \n",
       "Média                0.78        0.83        0.86  \n",
       "Mediana              0.79        0.84        0.88  \n",
       "Desvio Padrão        0.07        0.06        0.05  \n",
       "Mínimo               0.56        0.63        0.69  \n",
       "Máximo               0.87        0.91        0.94  "
      ]
     },
     "execution_count": 72,
     "metadata": {},
     "output_type": "execute_result"
    }
   ],
   "source": [
    "#Atribuindo os valores à lista com todos dados:\n",
    "data_hdi = [HDI_Average,HDI_Median,HDI_SD,HDI_Min,HDI_Max]\n",
    "#Transformando nossa lista em um dataframe, e atribuindo os nomes das colunas:\n",
    "data_hdi_1 = pd.DataFrame(data_hdi, columns=[\"HDI\",\"FORA_1980\",\"FORA_1990\",\"FORA_2000\",\"FORA_2009\",\"\",\"|\",\n",
    "                                    \"\", \"MEMBRO_1990\",\"MEMBRO_1990\",\"MEMBRO_2000\",\"MEMBRO_2009\"])\n",
    "#Alterando o index para IDH:\n",
    "data_hdi_2 = data_hdi_1.set_index('HDI')\n",
    "#Plotando o dataframe:\n",
    "data_hdi_2"
   ]
  },
  {
   "cell_type": "markdown",
   "metadata": {},
   "source": [
    "<br>\n",
    "\n",
    "A partir dos dados na tabela podemos perceber, que o crescimento de ambos é de certa forma similar, contudo como o desvio padrão diminui nos países membros, fato que não se repete nos outros, podemos afirmar que há um desenvolvimento superior nos anos análisadosno grupo que pertennce a organização."
   ]
  },
  {
   "cell_type": "markdown",
   "metadata": {},
   "source": [
    "...\n",
    "\n",
    "#### Vamos analisar os dados dos anos em grafícos de boxplot:\n",
    "\n",
    "<br>\n",
    "Este tipo de análise é bom para determinar a dispersão, simetria, caudas e valores discrepantes (outliers) do conjunto de dados"
   ]
  },
  {
   "cell_type": "code",
   "execution_count": 104,
   "metadata": {},
   "outputs": [
    {
     "data": {
      "image/png": "[encoded data removed]",
      "text/plain": [
       "<Figure size 1152x360 with 2 Axes>"
      ]
     },
     "metadata": {
      "needs_background": "light"
     },
     "output_type": "display_data"
    }
   ],
   "source": [
    "#Vamos definir o tamanho das figuras:\n",
    "fig = plt.figure(figsize=(16, 5))\n",
    "plt.subplot(121)\n",
    "#Fornecendo o dataframe que usaremos para o Boxplot:\n",
    "ax_hdi = sns.boxplot(data = HDI_in)\n",
    "#Fornecendo as caracteristicas do gráfico:\n",
    "plt.title(\"\\nPaíses dentro do OECD\",size=17)\n",
    "plt.ylabel('IDH')\n",
    "plt.xlabel('\\nANOS')\n",
    "ax_hdi.set(ylim=(0.1,1))\n",
    "\n",
    "plt.subplot(122)\n",
    "#Fornecendo o dataframe que usaremos para o Boxplot:\n",
    "ax_hdi_1 = sns.boxplot(data = HDI_out)\n",
    "#Fornecendo as caracteristicas do gráfico:\n",
    "plt.title(\"\\nPaíses Fora do OECD\",size=17)\n",
    "plt.ylabel('IDH')\n",
    "plt.xlabel('\\nANOS')\n",
    "ax_hdi_1.set(ylim=(0.1,1))\n",
    "plt.show()"
   ]
  },
  {
   "cell_type": "markdown",
   "metadata": {},
   "source": [
    "Análisando os dados fornecidos por estes gráficos de boxplot, é possível perceber que ambos grupos tiveram um crescimento significativo no período estudado. Porém vemos que enquanto o grupo dos membros da **OECD** diminui a quantidade de países nos dois primeiros quartis, o grupo dos países ausentes não diminui a quantidade nos mesmos quartis.\n",
    "\n",
    "\n",
    "___"
   ]
  },
  {
   "cell_type": "markdown",
   "metadata": {},
   "source": [
    "...\n",
    "\n",
    "#### 2.2 Analisando o crescimento do PIB:\n",
    "\n",
    "Para que seja possível comparar o crescimento do PIB dos países de fora do OECD com os que pertencem a organização, é necessário declarar quais países pertencem a que grupo a ser avaliado, portanto primeiro vamos separar o nosso dataframe inicial em dois."
   ]
  },
  {
   "cell_type": "code",
   "execution_count": 63,
   "metadata": {},
   "outputs": [],
   "source": [
    "#Criando um dataframe com os dados obtidos do IDH dos Países dentro da Organização:\n",
    "GDP_in = GDP_years.drop(GDP_years.loc[GDP_years['OECD']== \"FORA\"].index)"
   ]
  },
  {
   "cell_type": "code",
   "execution_count": 64,
   "metadata": {},
   "outputs": [],
   "source": [
    "#Criando um dataframe com os dados obtidos do IDH dos Países fora da Organização:\n",
    "GDP_out = GDP_years.drop(GDP_years.loc[GDP_years['OECD']== \"DENTRO\"].index)"
   ]
  },
  {
   "cell_type": "markdown",
   "metadata": {},
   "source": [
    "...\n",
    "\n",
    "Vamos começar analisando o crescimento do `GDP` dos países dentro e fora da OECD:"
   ]
  },
  {
   "cell_type": "code",
   "execution_count": 70,
   "metadata": {},
   "outputs": [
    {
     "name": "stdout",
     "output_type": "stream",
     "text": [
      "Países de fora da OECD:\n"
     ]
    },
    {
     "data": {
      "text/html": [
       "<div>\n",
       "<style scoped>\n",
       "    .dataframe tbody tr th:only-of-type {\n",
       "        vertical-align: middle;\n",
       "    }\n",
       "\n",
       "    .dataframe tbody tr th {\n",
       "        vertical-align: top;\n",
       "    }\n",
       "\n",
       "    .dataframe thead th {\n",
       "        text-align: right;\n",
       "    }\n",
       "</style>\n",
       "<table border=\"1\" class=\"dataframe\">\n",
       "  <thead>\n",
       "    <tr style=\"text-align: right;\">\n",
       "      <th></th>\n",
       "      <th>1980</th>\n",
       "      <th>1990</th>\n",
       "      <th>2000</th>\n",
       "      <th>2009</th>\n",
       "    </tr>\n",
       "  </thead>\n",
       "  <tbody>\n",
       "    <tr>\n",
       "      <th>count</th>\n",
       "      <td>1.120000e+02</td>\n",
       "      <td>1.480000e+02</td>\n",
       "      <td>1.640000e+02</td>\n",
       "      <td>1.550000e+02</td>\n",
       "    </tr>\n",
       "    <tr>\n",
       "      <th>mean</th>\n",
       "      <td>2.089035e+10</td>\n",
       "      <td>2.604689e+10</td>\n",
       "      <td>3.503525e+10</td>\n",
       "      <td>6.282398e+10</td>\n",
       "    </tr>\n",
       "    <tr>\n",
       "      <th>std</th>\n",
       "      <td>5.331085e+10</td>\n",
       "      <td>7.067052e+10</td>\n",
       "      <td>1.178768e+11</td>\n",
       "      <td>2.595941e+11</td>\n",
       "    </tr>\n",
       "    <tr>\n",
       "      <th>min</th>\n",
       "      <td>4.184758e+07</td>\n",
       "      <td>1.030372e+07</td>\n",
       "      <td>1.394007e+07</td>\n",
       "      <td>1.744657e+07</td>\n",
       "    </tr>\n",
       "    <tr>\n",
       "      <th>25%</th>\n",
       "      <td>9.885642e+08</td>\n",
       "      <td>1.089939e+09</td>\n",
       "      <td>1.279871e+09</td>\n",
       "      <td>1.948466e+09</td>\n",
       "    </tr>\n",
       "    <tr>\n",
       "      <th>50%</th>\n",
       "      <td>3.308439e+09</td>\n",
       "      <td>3.719601e+09</td>\n",
       "      <td>4.444180e+09</td>\n",
       "      <td>7.444876e+09</td>\n",
       "    </tr>\n",
       "    <tr>\n",
       "      <th>75%</th>\n",
       "      <td>1.155183e+10</td>\n",
       "      <td>1.338471e+10</td>\n",
       "      <td>1.789291e+10</td>\n",
       "      <td>2.819057e+10</td>\n",
       "    </tr>\n",
       "    <tr>\n",
       "      <th>max</th>\n",
       "      <td>4.303787e+11</td>\n",
       "      <td>5.017720e+11</td>\n",
       "      <td>1.198475e+12</td>\n",
       "      <td>2.940225e+12</td>\n",
       "    </tr>\n",
       "  </tbody>\n",
       "</table>\n",
       "</div>"
      ],
      "text/plain": [
       "               1980          1990          2000          2009\n",
       "count  1.120000e+02  1.480000e+02  1.640000e+02  1.550000e+02\n",
       "mean   2.089035e+10  2.604689e+10  3.503525e+10  6.282398e+10\n",
       "std    5.331085e+10  7.067052e+10  1.178768e+11  2.595941e+11\n",
       "min    4.184758e+07  1.030372e+07  1.394007e+07  1.744657e+07\n",
       "25%    9.885642e+08  1.089939e+09  1.279871e+09  1.948466e+09\n",
       "50%    3.308439e+09  3.719601e+09  4.444180e+09  7.444876e+09\n",
       "75%    1.155183e+10  1.338471e+10  1.789291e+10  2.819057e+10\n",
       "max    4.303787e+11  5.017720e+11  1.198475e+12  2.940225e+12"
      ]
     },
     "execution_count": 70,
     "metadata": {},
     "output_type": "execute_result"
    }
   ],
   "source": [
    "#Vamos checar como foi o crescimento dos países que não fazem parte da organização:\n",
    "print(\"Países de fora da OECD:\")\n",
    "GDP_out.describe()"
   ]
  },
  {
   "cell_type": "code",
   "execution_count": 68,
   "metadata": {},
   "outputs": [
    {
     "name": "stdout",
     "output_type": "stream",
     "text": [
      "Países dentro da OECD:\n"
     ]
    },
    {
     "data": {
      "text/html": [
       "<div>\n",
       "<style scoped>\n",
       "    .dataframe tbody tr th:only-of-type {\n",
       "        vertical-align: middle;\n",
       "    }\n",
       "\n",
       "    .dataframe tbody tr th {\n",
       "        vertical-align: top;\n",
       "    }\n",
       "\n",
       "    .dataframe thead th {\n",
       "        text-align: right;\n",
       "    }\n",
       "</style>\n",
       "<table border=\"1\" class=\"dataframe\">\n",
       "  <thead>\n",
       "    <tr style=\"text-align: right;\">\n",
       "      <th></th>\n",
       "      <th>1980</th>\n",
       "      <th>1990</th>\n",
       "      <th>2000</th>\n",
       "      <th>2009</th>\n",
       "    </tr>\n",
       "  </thead>\n",
       "  <tbody>\n",
       "    <tr>\n",
       "      <th>count</th>\n",
       "      <td>2.900000e+01</td>\n",
       "      <td>3.300000e+01</td>\n",
       "      <td>3.500000e+01</td>\n",
       "      <td>3.500000e+01</td>\n",
       "    </tr>\n",
       "    <tr>\n",
       "      <th>mean</th>\n",
       "      <td>4.997025e+11</td>\n",
       "      <td>6.112557e+11</td>\n",
       "      <td>7.493126e+11</td>\n",
       "      <td>8.414771e+11</td>\n",
       "    </tr>\n",
       "    <tr>\n",
       "      <th>std</th>\n",
       "      <td>1.045934e+12</td>\n",
       "      <td>1.396124e+12</td>\n",
       "      <td>1.812520e+12</td>\n",
       "      <td>2.017019e+12</td>\n",
       "    </tr>\n",
       "    <tr>\n",
       "      <th>min</th>\n",
       "      <td>5.161144e+09</td>\n",
       "      <td>6.763119e+09</td>\n",
       "      <td>5.675175e+09</td>\n",
       "      <td>7.837361e+09</td>\n",
       "    </tr>\n",
       "    <tr>\n",
       "      <th>25%</th>\n",
       "      <td>6.359204e+10</td>\n",
       "      <td>5.634141e+10</td>\n",
       "      <td>6.700888e+10</td>\n",
       "      <td>9.180808e+10</td>\n",
       "    </tr>\n",
       "    <tr>\n",
       "      <th>50%</th>\n",
       "      <td>1.280291e+11</td>\n",
       "      <td>1.473538e+11</td>\n",
       "      <td>1.712761e+11</td>\n",
       "      <td>2.188876e+11</td>\n",
       "    </tr>\n",
       "    <tr>\n",
       "      <th>75%</th>\n",
       "      <td>3.455633e+11</td>\n",
       "      <td>4.133253e+11</td>\n",
       "      <td>5.568648e+11</td>\n",
       "      <td>6.844532e+11</td>\n",
       "    </tr>\n",
       "    <tr>\n",
       "      <th>max</th>\n",
       "      <td>5.142220e+12</td>\n",
       "      <td>7.063943e+12</td>\n",
       "      <td>9.898800e+12</td>\n",
       "      <td>1.120919e+13</td>\n",
       "    </tr>\n",
       "  </tbody>\n",
       "</table>\n",
       "</div>"
      ],
      "text/plain": [
       "               1980          1990          2000          2009\n",
       "count  2.900000e+01  3.300000e+01  3.500000e+01  3.500000e+01\n",
       "mean   4.997025e+11  6.112557e+11  7.493126e+11  8.414771e+11\n",
       "std    1.045934e+12  1.396124e+12  1.812520e+12  2.017019e+12\n",
       "min    5.161144e+09  6.763119e+09  5.675175e+09  7.837361e+09\n",
       "25%    6.359204e+10  5.634141e+10  6.700888e+10  9.180808e+10\n",
       "50%    1.280291e+11  1.473538e+11  1.712761e+11  2.188876e+11\n",
       "75%    3.455633e+11  4.133253e+11  5.568648e+11  6.844532e+11\n",
       "max    5.142220e+12  7.063943e+12  9.898800e+12  1.120919e+13"
      ]
     },
     "execution_count": 68,
     "metadata": {},
     "output_type": "execute_result"
    }
   ],
   "source": [
    "#Vamos checar como foi o crescimento dos países que fazem parte da organização:\n",
    "print(\"Países dentro da OECD:\")\n",
    "GDP_in.describe()"
   ]
  },
  {
   "cell_type": "markdown",
   "metadata": {},
   "source": [
    "Ao ver as informações básicas de cada grupo, referentes ao PIB ao longo dos anos, vemos que a primera vista o valor maximo do grupo dos países de fora do grupo cresce mais do que o dos membros, porém mesmo crescendo mais, o valor do segundo grupo ainda é maior."
   ]
  },
  {
   "cell_type": "markdown",
   "metadata": {},
   "source": [
    "...\n",
    "\n",
    "<br>\n",
    "\n",
    "#### Estudo das distribuições do PIB:\n",
    "<br>\n",
    "\n",
    "Vamos começar esta análise com histogramas de cada ano, isolando os países que fazem parte da **OECD** . Para que possamos prosseguir, e como desta vez iremos utilizar a biblioteca seaborn para nos auxiliar em nosso estudo, não precisaremos descobrir a amplitude dos dados, uma vez que esta é feita automaticamente:"
   ]
  },
  {
   "cell_type": "code",
   "execution_count": 71,
   "metadata": {},
   "outputs": [
    {
     "data": {
      "image/png": "[encoded data removed]",
      "text/plain": [
       "<Figure size 1296x360 with 4 Axes>"
      ]
     },
     "metadata": {
      "needs_background": "light"
     },
     "output_type": "display_data"
    },
    {
     "data": {
      "image/png": "[encoded data removed]",
      "text/plain": [
       "<Figure size 1296x360 with 4 Axes>"
      ]
     },
     "metadata": {
      "needs_background": "light"
     },
     "output_type": "display_data"
    }
   ],
   "source": [
    "#Vamos plotar histogramas de PIB dos países ao longo do tempo:\n",
    "fig = plt.figure(figsize=(18, 5))\n",
    "plt.subplot(141)\n",
    "GDP11 = sns.distplot(np.log10(GDP_out.iloc[:,1]).dropna(),kde=False, bins = 10, hist_kws={\"linewidth\": 3,\n",
    "                                                    \"alpha\": 0.7, \"color\": \"firebrick\", \"rwidth\" :0.93});\n",
    "plt.title(\"\\nPaíses fora do OECD - 1980\",size=17)\n",
    "plt.ylabel('Densidade (em log)')\n",
    "plt.xlabel(' ')\n",
    "GDP11.set(xlim=(6, 14),ylim=(0,35))\n",
    "\n",
    "plt.subplot(142)\n",
    "GDP12 = sns.distplot(np.log10(GDP_out.iloc[:,2]).dropna(),kde=False, bins = 10, hist_kws={\"linewidth\": 3,\n",
    "                                                    \"alpha\": 0.6, \"color\": \"orangered\", \"rwidth\" :0.93});\n",
    "plt.title(\"\\nPaíses fora do OECD - 1990\",size=17)\n",
    "plt.ylabel(' ')\n",
    "plt.xlabel(' ')\n",
    "GDP12.set(xlim=(6, 14),ylim=(0,35))\n",
    "\n",
    "plt.subplot(143)\n",
    "GDP13 = sns.distplot(np.log10(GDP_out.iloc[:,3]).dropna(),kde=False, bins = 10, hist_kws={\"linewidth\": 3,\n",
    "                                                       \"alpha\": 0.8, \"color\": \"orange\", \"rwidth\" :0.93});\n",
    "plt.title(\"\\nPaíses fora do OECD - 1990\",size=17)\n",
    "plt.ylabel(' ')\n",
    "plt.xlabel(' ')\n",
    "GDP13.set(xlim=(6, 14),ylim=(0,35))\n",
    "\n",
    "plt.subplot(144)\n",
    "GDP14 = sns.distplot(np.log10(GDP_out.iloc[:,4]).dropna(),kde=False, bins = 10, hist_kws={\"linewidth\": 3,\n",
    "                                                         \"alpha\": 0.9, \"color\": \"gold\", \"rwidth\" :0.93});\n",
    "plt.title(\"\\nPaíses fora do OECD - 1990\",size=17)\n",
    "plt.ylabel(' ')\n",
    "plt.xlabel(' ')\n",
    "GDP14.set(xlim=(6, 14),ylim=(0,35))\n",
    "plt.tight_layout()\n",
    "plt.show()\n",
    "\n",
    "fig = plt.figure(figsize=(18, 5))\n",
    "plt.subplot(141)\n",
    "GDP21 = sns.distplot(np.log10(GDP_in.iloc[:,1]).dropna(),kde=False, bins = 10, hist_kws={\"linewidth\": 3,\n",
    "                                                   \"alpha\": 0.7, \"color\": \"firebrick\", \"rwidth\" :0.88});\n",
    "plt.title(\"\\nPaíses dentro do OECD - 1980\",size=17)\n",
    "plt.ylabel('Densidade (em log)')\n",
    "plt.xlabel('PIB')\n",
    "GDP21.set(xlim=(6, 14),ylim=(0,35))\n",
    "\n",
    "plt.subplot(142)\n",
    "GDP22 = sns.distplot(np.log10(GDP_in.iloc[:,2]).dropna(),kde=False, bins = 10, hist_kws={\"linewidth\": 3,\n",
    "                                                   \"alpha\": 0.6, \"color\": \"orangered\", \"rwidth\" :0.88});\n",
    "plt.title(\"\\nPaíses dentro do OECD - 1990\",size=17)\n",
    "plt.ylabel(' ')\n",
    "plt.xlabel('PIB')\n",
    "GDP22.set(xlim=(6, 14),ylim=(0,35))\n",
    "\n",
    "plt.subplot(143)\n",
    "GDP23 = sns.distplot(np.log10(GDP_in.iloc[:,3]).dropna(),kde=False, bins = 10, hist_kws={\"linewidth\": 3,\n",
    "                                                       \"alpha\": 0.8, \"color\": \"orange\", \"rwidth\" :0.9});\n",
    "plt.title(\"\\nPaíses dentro do OECD - 1990\",size=17)\n",
    "plt.ylabel(' ')\n",
    "plt.xlabel('PIB')\n",
    "GDP23.set(xlim=(6, 14),ylim=(0,35))\n",
    "\n",
    "plt.subplot(144)\n",
    "GDP24 = sns.distplot(np.log10(GDP_in.iloc[:,4]).dropna(),kde=False, bins = 10, hist_kws={\"linewidth\": 3,\n",
    "                                                         \"alpha\": 0.9, \"color\": \"gold\", \"rwidth\" :0.9});\n",
    "plt.title(\"\\nPaíses dentro do OECD - 1990\",size=17)\n",
    "plt.ylabel(' ')\n",
    "plt.xlabel('PIB')\n",
    "GDP24.set(xlim=(6, 14),ylim=(0,35))\n",
    "plt.tight_layout()\n",
    "plt.show()"
   ]
  },
  {
   "cell_type": "markdown",
   "metadata": {},
   "source": [
    "A partir da comparação dos histogramas, conseguimos identificar que os países que nao fazem parte da OECD não só melhoram um pouco o seu PIB, como a distribuição também apresenta uma melhora: de levemente a direita, para uma distribuição que se aproxima de uma normal. Já os países que compõe a **OECD** não apresentam uma mudança substancial de distribuição, mas ainda sim eles conseguem melhorar seu Produto Insterno Bruto."
   ]
  },
  {
   "cell_type": "markdown",
   "metadata": {},
   "source": [
    "...\n",
    "\n",
    "#### Vamos checar de maneira mais organizada e clara estes dados:\n",
    "\n",
    "<br>\n",
    "Novamente vamos usar medidas especificas de cada ano dos dataframes para enriquecer nosso estudo. Relembrando as medias: O valor da média; O valor da mediana; o valor do desvio padrão; os valor maximo e também o valor mínimo."
   ]
  },
  {
   "cell_type": "code",
   "execution_count": 94,
   "metadata": {},
   "outputs": [],
   "source": [
    "#Criando uma lista com os valores das médias de cada ano:\n",
    "GDP_Average = [\"Média\",\"{:.2f}\".format((GDP_out.iloc[:,1].mean())/10000000000), \"{:.2f}\".format((GDP_out.iloc[:,2].mean())/10000000000),\n",
    "               \"{:.2f}\".format((GDP_out.iloc[:,3].mean())/10000000000),\"{:.2f}\".format((GDP_out.iloc[:,4].mean())/10000000000),\"\",\"|\",\"\",\n",
    "               \"{:.2f}\".format((GDP_in.iloc[:,1].mean())/10000000000),\"{:.2f}\".format((GDP_in.iloc[:,2].mean())/10000000000),\n",
    "               \"{:.2f}\".format((GDP_in.iloc[:,3].mean())/10000000000),\"{:.2f}\".format((GDP_in.iloc[:,4].mean())/10000000000)]\n",
    "#Criando uma lista com os valores das medianas de cada ano:\n",
    "GDP_Median = [\"Mediana\",\"{:.2f}\".format((GDP_out.iloc[:,1].median())/10000000000), \"{:.2f}\".format((GDP_out.iloc[:,2].median())/10000000000),\n",
    "              \"{:.2f}\".format((GDP_out.iloc[:,3].median())/10000000000),\"{:.2f}\".format((GDP_out.iloc[:,4].median())/10000000000),\"\",\"|\",\"\",\n",
    "              \"{:.2f}\".format((GDP_in.iloc[:,1].median())/10000000000),\"{:.2f}\".format((GDP_in.iloc[:,2].median())/10000000000),\n",
    "              \"{:.2f}\".format((GDP_in.iloc[:,3].median())/10000000000),\"{:.2f}\".format((GDP_in.iloc[:,4].median())/10000000000)]\n",
    "GDP_SD = [\"Desvio Padrão\",\"{:.2f}\".format((GDP_out.iloc[:,1].std())/10000000000), \"{:.2f}\".format((GDP_out.iloc[:,2].std())/10000000000),\n",
    "               \"{:.2f}\".format((GDP_out.iloc[:,3].std())/10000000000),\"{:.2f}\".format((GDP_out.iloc[:,4].std())/10000000000),\"\",\"|\",\"\",\n",
    "               \"{:.2f}\".format((GDP_in.iloc[:,1].std())/10000000000),\"{:.2f}\".format((GDP_in.iloc[:,2].std())/10000000000),\n",
    "               \"{:.2f}\".format((GDP_in.iloc[:,3].std())/10000000000),\"{:.2f}\".format((GDP_in.iloc[:,4].std())/10000000000)]\n",
    "#Criando uma lista com os valores Minimos de cada ano:\n",
    "GDP_Min = [\"Mínimo\",\"{:.3f}\".format((GDP_out.iloc[:,1].min())/10000000000), \"{:.3f}\".format((GDP_out.iloc[:,2].min())/10000000000),\n",
    "              \"{:.3f}\".format((GDP_out.iloc[:,3].min())/10000000000),\"{:.3f}\".format((GDP_out.iloc[:,4].min())/10000000000),\"\",\"|\",\n",
    "              \"\",\"{:.2f}\".format((GDP_in.iloc[:,1].min())/10000000000),\"{:.2f}\".format((GDP_in.iloc[:,2].min())/10000000000),\n",
    "              \"{:.2f}\".format((GDP_in.iloc[:,3].min())/10000000000),\"{:.2f}\".format((GDP_in.iloc[:,4].min())/10000000000)]\n",
    "#Criando uma lista com os valores Maximos de cada ano:\n",
    "GDP_Max = [\"Máximo\",\"{:.2f}\".format((GDP_out.iloc[:,1].max())/10000000000), \"{:.2f}\".format((GDP_out.iloc[:,2].max())/10000000000),\n",
    "              \"{:.2f}\".format((GDP_out.iloc[:,3].max())/10000000000),\"{:.2f}\".format((GDP_out.iloc[:,4].max())/10000000000),\"\",\"|\",\n",
    "              \"\",\"{:.2f}\".format((GDP_in.iloc[:,1].max())/10000000000),\"{:.2f}\".format((GDP_in.iloc[:,2].max())/10000000000),\n",
    "              \"{:.2f}\".format((GDP_in.iloc[:,3].max())/10000000000),\"{:.2f}\".format((GDP_in.iloc[:,4].max())/10000000000)]"
   ]
  },
  {
   "cell_type": "code",
   "execution_count": 95,
   "metadata": {},
   "outputs": [
    {
     "data": {
      "text/html": [
       "<div>\n",
       "<style scoped>\n",
       "    .dataframe tbody tr th:only-of-type {\n",
       "        vertical-align: middle;\n",
       "    }\n",
       "\n",
       "    .dataframe tbody tr th {\n",
       "        vertical-align: top;\n",
       "    }\n",
       "\n",
       "    .dataframe thead th {\n",
       "        text-align: right;\n",
       "    }\n",
       "</style>\n",
       "<table border=\"1\" class=\"dataframe\">\n",
       "  <thead>\n",
       "    <tr style=\"text-align: right;\">\n",
       "      <th></th>\n",
       "      <th>FORA_1980</th>\n",
       "      <th>FORA_1990</th>\n",
       "      <th>FORA_2000</th>\n",
       "      <th>FORA_2009</th>\n",
       "      <th></th>\n",
       "      <th>|</th>\n",
       "      <th></th>\n",
       "      <th>MEMBRO_1990</th>\n",
       "      <th>MEMBRO_1990</th>\n",
       "      <th>MEMBRO_2000</th>\n",
       "      <th>MEMBRO_2009</th>\n",
       "    </tr>\n",
       "    <tr>\n",
       "      <th>HDI</th>\n",
       "      <th></th>\n",
       "      <th></th>\n",
       "      <th></th>\n",
       "      <th></th>\n",
       "      <th></th>\n",
       "      <th></th>\n",
       "      <th></th>\n",
       "      <th></th>\n",
       "      <th></th>\n",
       "      <th></th>\n",
       "      <th></th>\n",
       "    </tr>\n",
       "  </thead>\n",
       "  <tbody>\n",
       "    <tr>\n",
       "      <th>Média</th>\n",
       "      <td>2.09</td>\n",
       "      <td>2.60</td>\n",
       "      <td>3.50</td>\n",
       "      <td>6.28</td>\n",
       "      <td></td>\n",
       "      <td>|</td>\n",
       "      <td></td>\n",
       "      <td>49.97</td>\n",
       "      <td>61.13</td>\n",
       "      <td>74.93</td>\n",
       "      <td>84.15</td>\n",
       "    </tr>\n",
       "    <tr>\n",
       "      <th>Mediana</th>\n",
       "      <td>0.33</td>\n",
       "      <td>0.37</td>\n",
       "      <td>0.44</td>\n",
       "      <td>0.74</td>\n",
       "      <td></td>\n",
       "      <td>|</td>\n",
       "      <td></td>\n",
       "      <td>12.80</td>\n",
       "      <td>14.74</td>\n",
       "      <td>17.13</td>\n",
       "      <td>21.89</td>\n",
       "    </tr>\n",
       "    <tr>\n",
       "      <th>Desvio Padrão</th>\n",
       "      <td>5.33</td>\n",
       "      <td>7.07</td>\n",
       "      <td>11.79</td>\n",
       "      <td>25.96</td>\n",
       "      <td></td>\n",
       "      <td>|</td>\n",
       "      <td></td>\n",
       "      <td>104.59</td>\n",
       "      <td>139.61</td>\n",
       "      <td>181.25</td>\n",
       "      <td>201.70</td>\n",
       "    </tr>\n",
       "    <tr>\n",
       "      <th>Mínimo</th>\n",
       "      <td>0.004</td>\n",
       "      <td>0.001</td>\n",
       "      <td>0.001</td>\n",
       "      <td>0.002</td>\n",
       "      <td></td>\n",
       "      <td>|</td>\n",
       "      <td></td>\n",
       "      <td>0.52</td>\n",
       "      <td>0.68</td>\n",
       "      <td>0.57</td>\n",
       "      <td>0.78</td>\n",
       "    </tr>\n",
       "    <tr>\n",
       "      <th>Máximo</th>\n",
       "      <td>43.04</td>\n",
       "      <td>50.18</td>\n",
       "      <td>119.85</td>\n",
       "      <td>294.02</td>\n",
       "      <td></td>\n",
       "      <td>|</td>\n",
       "      <td></td>\n",
       "      <td>514.22</td>\n",
       "      <td>706.39</td>\n",
       "      <td>989.88</td>\n",
       "      <td>1120.92</td>\n",
       "    </tr>\n",
       "  </tbody>\n",
       "</table>\n",
       "</div>"
      ],
      "text/plain": [
       "              FORA_1980 FORA_1990 FORA_2000 FORA_2009    |   MEMBRO_1990  \\\n",
       "HDI                                                                        \n",
       "Média              2.09      2.60      3.50      6.28    |         49.97   \n",
       "Mediana            0.33      0.37      0.44      0.74    |         12.80   \n",
       "Desvio Padrão      5.33      7.07     11.79     25.96    |        104.59   \n",
       "Mínimo            0.004     0.001     0.001     0.002    |          0.52   \n",
       "Máximo            43.04     50.18    119.85    294.02    |        514.22   \n",
       "\n",
       "              MEMBRO_1990 MEMBRO_2000 MEMBRO_2009  \n",
       "HDI                                                \n",
       "Média               61.13       74.93       84.15  \n",
       "Mediana             14.74       17.13       21.89  \n",
       "Desvio Padrão      139.61      181.25      201.70  \n",
       "Mínimo               0.68        0.57        0.78  \n",
       "Máximo             706.39      989.88     1120.92  "
      ]
     },
     "execution_count": 95,
     "metadata": {},
     "output_type": "execute_result"
    }
   ],
   "source": [
    "#Atribuindo os valores à lista com todos dados:\n",
    "data_gdp = [GDP_Average,GDP_Median,GDP_SD,GDP_Min,GDP_Max]\n",
    "#Transformando nossa lista em um dataframe, e atribuindo os nomes das colunas:\n",
    "data_gdp_1 = pd.DataFrame(data_gdp, columns=[\"HDI\",\"FORA_1980\",\"FORA_1990\",\"FORA_2000\",\"FORA_2009\",\"\",\"|\",\n",
    "                                    \"\", \"MEMBRO_1990\",\"MEMBRO_1990\",\"MEMBRO_2000\",\"MEMBRO_2009\"])\n",
    "#Alterando o index para IDH:\n",
    "data_gdp_2 = data_gdp_1.set_index('HDI')\n",
    "#Plotando o dataframe:\n",
    "data_gdp_2"
   ]
  },
  {
   "cell_type": "markdown",
   "metadata": {},
   "source": [
    "podemos concluir que"
   ]
  },
  {
   "cell_type": "markdown",
   "metadata": {},
   "source": [
    "...\n",
    "\n",
    "#### Vamos analisar os dados dos anos em grafícos de boxplot:\n",
    "\n",
    "<br>\n",
    "Este tipo de análise é bom para determinar a dispersão, simetria, caudas e valores discrepantes (outliers) do conjunto de dados"
   ]
  },
  {
   "cell_type": "code",
   "execution_count": 105,
   "metadata": {},
   "outputs": [
    {
     "data": {
      "image/png": "[encoded data removed]",
      "text/plain": [
       "<Figure size 1152x360 with 2 Axes>"
      ]
     },
     "metadata": {
      "needs_background": "light"
     },
     "output_type": "display_data"
    }
   ],
   "source": [
    "#Vamos definir o tamanho das figuras:\n",
    "fig = plt.figure(figsize=(16, 5))\n",
    "plt.subplot(121)\n",
    "#Fornecendo o dataframe que usaremos para o Boxplot:\n",
    "ax_gdp = sns.boxplot(data = np.log10(GDP_in.iloc[:,[1,2,3,4]]))\n",
    "#Fornecendo as caracteristicas do gráfico:\n",
    "plt.title(\"\\nPaíses dentro do OECD\",size=17)\n",
    "plt.ylabel('PIB')\n",
    "plt.xlabel('\\nANOS')\n",
    "ax_gdp.set(ylim=(7,14))\n",
    "\n",
    "plt.subplot(122)\n",
    "#Fornecendo o dataframe que usaremos para o Boxplot:\n",
    "ax_gdp_1 = sns.boxplot(data = np.log10(GDP_out.iloc[:,[1,2,3,4]]))\n",
    "#Fornecendo as caracteristicas do gráfico:\n",
    "plt.title(\"\\nPaíses Fora do OECD\",size=17)\n",
    "plt.ylabel('PIB')\n",
    "plt.xlabel('\\nANOS')\n",
    "ax_gdp_1.set(ylim=(7,14))\n",
    "plt.show()"
   ]
  },
  {
   "cell_type": "markdown",
   "metadata": {},
   "source": [
    "Através da análise destes boxplots, conseguimos definir que de fato os paises dentro da OECD tiveram um crescimento maior do que os países do outro grupo, além de ter aumentado a quantidade de países no seu terceiro quartil em 2009 que mostra uma mudança na sua distribuição, para melhor. Enquanto os países de fora cresceram de maneira praticamente constante, e quase sem mudar seus quartis.\n",
    "\n",
    "___"
   ]
  },
  {
   "cell_type": "markdown",
   "metadata": {},
   "source": [
    "...\n",
    "<br>\n",
    "\n",
    "#### 2.3 Analisando os Invstimentos estrangeiros:\n",
    "\n"
   ]
  },
  {
   "cell_type": "code",
   "execution_count": 108,
   "metadata": {},
   "outputs": [],
   "source": [
    "#Criando um dataframe com os dados obtidos do IDH dos Países dentro da Organização:\n",
    "Investment_in = Foreign_investment_years.drop(Foreign_investment_years.loc[\n",
    "                                                Foreign_investment_years['OECD'] == \"FORA\"].index)"
   ]
  },
  {
   "cell_type": "code",
   "execution_count": 110,
   "metadata": {},
   "outputs": [],
   "source": [
    "#Criando um dataframe com os dados obtidos do IDH dos Países fora da Organização:\n",
    "Investment_out = Foreign_investment_years.drop(Foreign_investment_years.loc[\n",
    "                                                Foreign_investment_years['OECD'] == \"DENTRO\"].index)"
   ]
  },
  {
   "cell_type": "markdown",
   "metadata": {},
   "source": [
    "...\n",
    "\n",
    "Vamos passar rapidamente pelas características dos investimentos:"
   ]
  },
  {
   "cell_type": "code",
   "execution_count": 113,
   "metadata": {},
   "outputs": [
    {
     "name": "stdout",
     "output_type": "stream",
     "text": [
      "Países de fora da OECD:\n"
     ]
    },
    {
     "data": {
      "text/html": [
       "<div>\n",
       "<style scoped>\n",
       "    .dataframe tbody tr th:only-of-type {\n",
       "        vertical-align: middle;\n",
       "    }\n",
       "\n",
       "    .dataframe tbody tr th {\n",
       "        vertical-align: top;\n",
       "    }\n",
       "\n",
       "    .dataframe thead th {\n",
       "        text-align: right;\n",
       "    }\n",
       "</style>\n",
       "<table border=\"1\" class=\"dataframe\">\n",
       "  <thead>\n",
       "    <tr style=\"text-align: right;\">\n",
       "      <th></th>\n",
       "      <th>1980</th>\n",
       "      <th>1990</th>\n",
       "      <th>2000</th>\n",
       "      <th>2009</th>\n",
       "    </tr>\n",
       "  </thead>\n",
       "  <tbody>\n",
       "    <tr>\n",
       "      <th>count</th>\n",
       "      <td>91.000</td>\n",
       "      <td>115.000</td>\n",
       "      <td>141.000</td>\n",
       "      <td>150.000</td>\n",
       "    </tr>\n",
       "    <tr>\n",
       "      <th>mean</th>\n",
       "      <td>1.574</td>\n",
       "      <td>2.182</td>\n",
       "      <td>4.034</td>\n",
       "      <td>5.033</td>\n",
       "    </tr>\n",
       "    <tr>\n",
       "      <th>std</th>\n",
       "      <td>3.642</td>\n",
       "      <td>6.636</td>\n",
       "      <td>10.108</td>\n",
       "      <td>5.190</td>\n",
       "    </tr>\n",
       "    <tr>\n",
       "      <th>min</th>\n",
       "      <td>-13.600</td>\n",
       "      <td>-19.800</td>\n",
       "      <td>-16.600</td>\n",
       "      <td>-2.410</td>\n",
       "    </tr>\n",
       "    <tr>\n",
       "      <th>25%</th>\n",
       "      <td>0.122</td>\n",
       "      <td>0.133</td>\n",
       "      <td>0.792</td>\n",
       "      <td>1.555</td>\n",
       "    </tr>\n",
       "    <tr>\n",
       "      <th>50%</th>\n",
       "      <td>0.762</td>\n",
       "      <td>0.806</td>\n",
       "      <td>2.740</td>\n",
       "      <td>3.505</td>\n",
       "    </tr>\n",
       "    <tr>\n",
       "      <th>75%</th>\n",
       "      <td>1.985</td>\n",
       "      <td>2.225</td>\n",
       "      <td>4.930</td>\n",
       "      <td>7.095</td>\n",
       "    </tr>\n",
       "    <tr>\n",
       "      <th>max</th>\n",
       "      <td>21.100</td>\n",
       "      <td>58.600</td>\n",
       "      <td>113.000</td>\n",
       "      <td>37.200</td>\n",
       "    </tr>\n",
       "  </tbody>\n",
       "</table>\n",
       "</div>"
      ],
      "text/plain": [
       "         1980     1990     2000     2009\n",
       "count  91.000  115.000  141.000  150.000\n",
       "mean    1.574    2.182    4.034    5.033\n",
       "std     3.642    6.636   10.108    5.190\n",
       "min   -13.600  -19.800  -16.600   -2.410\n",
       "25%     0.122    0.133    0.792    1.555\n",
       "50%     0.762    0.806    2.740    3.505\n",
       "75%     1.985    2.225    4.930    7.095\n",
       "max    21.100   58.600  113.000   37.200"
      ]
     },
     "execution_count": 113,
     "metadata": {},
     "output_type": "execute_result"
    }
   ],
   "source": [
    "#Vamos checar como foi o crescimento dos países que não fazem parte da organização:\n",
    "print(\"Países de fora da OECD:\")\n",
    "Investment_out.describe().round(3)"
   ]
  },
  {
   "cell_type": "code",
   "execution_count": 114,
   "metadata": {},
   "outputs": [
    {
     "name": "stdout",
     "output_type": "stream",
     "text": [
      "Países de dentro da OECD:\n"
     ]
    },
    {
     "data": {
      "text/html": [
       "<div>\n",
       "<style scoped>\n",
       "    .dataframe tbody tr th:only-of-type {\n",
       "        vertical-align: middle;\n",
       "    }\n",
       "\n",
       "    .dataframe tbody tr th {\n",
       "        vertical-align: top;\n",
       "    }\n",
       "\n",
       "    .dataframe thead th {\n",
       "        text-align: right;\n",
       "    }\n",
       "</style>\n",
       "<table border=\"1\" class=\"dataframe\">\n",
       "  <thead>\n",
       "    <tr style=\"text-align: right;\">\n",
       "      <th></th>\n",
       "      <th>1980</th>\n",
       "      <th>1990</th>\n",
       "      <th>2000</th>\n",
       "      <th>2009</th>\n",
       "    </tr>\n",
       "  </thead>\n",
       "  <tbody>\n",
       "    <tr>\n",
       "      <th>count</th>\n",
       "      <td>25.000</td>\n",
       "      <td>27.000</td>\n",
       "      <td>33.000</td>\n",
       "      <td>35.000</td>\n",
       "    </tr>\n",
       "    <tr>\n",
       "      <th>mean</th>\n",
       "      <td>0.619</td>\n",
       "      <td>1.296</td>\n",
       "      <td>6.275</td>\n",
       "      <td>4.585</td>\n",
       "    </tr>\n",
       "    <tr>\n",
       "      <th>std</th>\n",
       "      <td>0.591</td>\n",
       "      <td>1.137</td>\n",
       "      <td>5.983</td>\n",
       "      <td>9.966</td>\n",
       "    </tr>\n",
       "    <tr>\n",
       "      <th>min</th>\n",
       "      <td>0.009</td>\n",
       "      <td>0.057</td>\n",
       "      <td>-2.870</td>\n",
       "      <td>-3.510</td>\n",
       "    </tr>\n",
       "    <tr>\n",
       "      <th>25%</th>\n",
       "      <td>0.121</td>\n",
       "      <td>0.423</td>\n",
       "      <td>2.600</td>\n",
       "      <td>0.647</td>\n",
       "    </tr>\n",
       "    <tr>\n",
       "      <th>50%</th>\n",
       "      <td>0.477</td>\n",
       "      <td>0.837</td>\n",
       "      <td>5.430</td>\n",
       "      <td>1.530</td>\n",
       "    </tr>\n",
       "    <tr>\n",
       "      <th>75%</th>\n",
       "      <td>1.080</td>\n",
       "      <td>2.075</td>\n",
       "      <td>8.480</td>\n",
       "      <td>3.145</td>\n",
       "    </tr>\n",
       "    <tr>\n",
       "      <th>max</th>\n",
       "      <td>2.120</td>\n",
       "      <td>3.810</td>\n",
       "      <td>25.500</td>\n",
       "      <td>53.100</td>\n",
       "    </tr>\n",
       "  </tbody>\n",
       "</table>\n",
       "</div>"
      ],
      "text/plain": [
       "         1980    1990    2000    2009\n",
       "count  25.000  27.000  33.000  35.000\n",
       "mean    0.619   1.296   6.275   4.585\n",
       "std     0.591   1.137   5.983   9.966\n",
       "min     0.009   0.057  -2.870  -3.510\n",
       "25%     0.121   0.423   2.600   0.647\n",
       "50%     0.477   0.837   5.430   1.530\n",
       "75%     1.080   2.075   8.480   3.145\n",
       "max     2.120   3.810  25.500  53.100"
      ]
     },
     "execution_count": 114,
     "metadata": {},
     "output_type": "execute_result"
    }
   ],
   "source": [
    "#Vamos checar como foi o crescimento dos países que fazem parte da organização:\n",
    "print(\"Países de dentro da OECD:\")\n",
    "Investment_in.describe().round(3)"
   ]
  },
  {
   "cell_type": "markdown",
   "metadata": {},
   "source": [
    "É possivel perceber que os investimentos no começo da organização eram mais escassos, porém como o decorrer dos anos o cenário mudou para os membros, que passaram a ter mais um valor maximo de investimento, maior que o valor dos países fora do grupo.\n",
    "\n",
    "___"
   ]
  },
  {
   "cell_type": "markdown",
   "metadata": {},
   "source": [
    "### 3. Correlações entre as variáveis:"
   ]
  },
  {
   "cell_type": "markdown",
   "metadata": {},
   "source": [
    "...\n",
    "\n",
    "<br>\n",
    "\n",
    "#### Vamos correlacionar os dados do PIB per capta com os dados do IDH:\n",
    "\n",
    "Como visto na análise exploratória, ambos crescem mais para os países que pertencem a **`OECD`**, mas como será a sua correlação?"
   ]
  },
  {
   "cell_type": "code",
   "execution_count": 119,
   "metadata": {},
   "outputs": [
    {
     "data": {
      "image/png": "[encoded data removed]",
      "text/plain": [
       "<Figure size 1080x360 with 3 Axes>"
      ]
     },
     "metadata": {
      "needs_background": "light"
     },
     "output_type": "display_data"
    },
    {
     "data": {
      "image/png": "[encoded data removed]",
      "text/plain": [
       "<Figure size 1080x360 with 3 Axes>"
      ]
     },
     "metadata": {
      "needs_background": "light"
     },
     "output_type": "display_data"
    }
   ],
   "source": [
    "#Vamos definir o tamanho das figuras:\n",
    "fig = plt.figure(figsize=(15, 5))\n",
    "plt.subplot(131)\n",
    "#Definindo os dados que vamos relacionar:\n",
    "plt.scatter(HDI_out.iloc[:,1], np.log10(GDP_out.iloc[:,1]), c='red', alpha=0.8)\n",
    "plt.title('IDH x PIB - 1990\\n FORA')\n",
    "plt.xlabel('IDH')\n",
    "plt.ylabel('PIB per capta')\n",
    "\n",
    "plt.subplot(132)\n",
    "plt.scatter(HDI_out.iloc[:,2], np.log10(GDP_out.iloc[:,2]), c='red', alpha=0.8)\n",
    "plt.title('IDH x PIB - 2000\\n FORA')\n",
    "plt.xlabel('IDH')\n",
    "plt.ylabel('PIB per capta')\n",
    "\n",
    "plt.subplot(133)\n",
    "plt.scatter(HDI_out.iloc[:,3], np.log10(GDP_out.iloc[:,3]), c='red', alpha=0.8)\n",
    "plt.title('IDH x PIB - 2009\\n FORA')\n",
    "plt.xlabel('IDH')\n",
    "plt.ylabel('PIB per capta')\n",
    "plt.tight_layout()\n",
    "plt.show()\n",
    "\n",
    "fig = plt.figure(figsize=(15, 5))\n",
    "plt.subplot(131)\n",
    "plt.scatter(HDI_in.iloc[:,1], np.log10(GDP_in.iloc[:,1]), c='red', alpha=0.8)\n",
    "plt.title('IDH x PIB - 1990\\n MEMBRO')\n",
    "plt.xlabel('IDH')\n",
    "plt.ylabel('PIB per capta')\n",
    "\n",
    "plt.subplot(132)\n",
    "plt.scatter(HDI_in.iloc[:,2], np.log10(GDP_in.iloc[:,3]), c='red', alpha=0.8)\n",
    "plt.title('IDH x PIB - 2000\\n MEMBRO')\n",
    "plt.xlabel('IDH')\n",
    "plt.ylabel('PIB per capta')\n",
    "\n",
    "plt.subplot(133)\n",
    "plt.scatter(HDI_in.iloc[:,3], np.log10(GDP_in.iloc[:,3]), c='red', alpha=0.8)\n",
    "plt.title('IDH x PIB - 2009\\n MEMBRO')\n",
    "plt.xlabel('IDH')\n",
    "plt.ylabel('PIB per capta')\n",
    "plt.tight_layout()\n",
    "plt.show()"
   ]
  },
  {
   "cell_type": "markdown",
   "metadata": {},
   "source": [
    "É possivel afirmar que os países da organização escolhida tem seus dados mais proximos e com uma correlação superior a dos países fora da mesma organização."
   ]
  },
  {
   "cell_type": "markdown",
   "metadata": {},
   "source": [
    "...\n",
    "<br>\n",
    "\n",
    "#### Vamos conferir mais detalhadamente cada relação em todos anos:\n",
    "\n"
   ]
  },
  {
   "cell_type": "code",
   "execution_count": 122,
   "metadata": {},
   "outputs": [
    {
     "data": {
      "image/png": "[encoded data removed]",
      "text/plain": [
       "<Figure size 618.125x540 with 12 Axes>"
      ]
     },
     "metadata": {
      "needs_background": "light"
     },
     "output_type": "display_data"
    }
   ],
   "source": [
    "#Plotando gráficos de correlação entre as variáveis usadas em 1980:\n",
    "sns.pairplot(df_1980, height = 2.5, hue = 'OECD', kind=\"reg\");\n",
    "plt.show()"
   ]
  },
  {
   "cell_type": "code",
   "execution_count": 128,
   "metadata": {},
   "outputs": [
    {
     "data": {
      "image/png": "[encoded data removed]",
      "text/plain": [
       "<Figure size 618.125x540 with 12 Axes>"
      ]
     },
     "metadata": {
      "needs_background": "light"
     },
     "output_type": "display_data"
    }
   ],
   "source": [
    "#Plotando gráficos de correlação entre as variáveis usadas em 2009:\n",
    "sns.pairplot(df_2009, height = 2.5, hue = 'OECD', kind=\"reg\");\n",
    "plt.show()"
   ]
  },
  {
   "cell_type": "markdown",
   "metadata": {},
   "source": [
    "...\n",
    "<br>\n",
    "\n",
    "Agora vamos ver de forma númerica:"
   ]
  },
  {
   "cell_type": "code",
   "execution_count": 130,
   "metadata": {},
   "outputs": [],
   "source": [
    "#Criando um dataframe com os dados obtidos do IDH dos Países dentro da Organização:\n",
    "df_1980_in = df_1980.drop(df_1980.loc[df_1980['OECD'] == \"FORA\"].index)\n",
    "\n",
    "#Criando um dataframe com os dados obtidos do IDH dos Países fora da Organização:\n",
    "df_1980_out = df_1980.drop(df_1980.loc[df_1980['OECD'] == \"DENTRO\"].index)"
   ]
  },
  {
   "cell_type": "code",
   "execution_count": 131,
   "metadata": {},
   "outputs": [],
   "source": [
    "#Criando um dataframe com os dados obtidos do IDH dos Países dentro da Organização:\n",
    "df_2009_in = df_2009.drop(df_2009.loc[df_2009['OECD'] == \"FORA\"].index)\n",
    "\n",
    "#Criando um dataframe com os dados obtidos do IDH dos Países fora da Organização:\n",
    "df_2009_out = df_2009.drop(df_2009.loc[df_2009['OECD'] == \"DENTRO\"].index)"
   ]
  },
  {
   "cell_type": "code",
   "execution_count": 136,
   "metadata": {},
   "outputs": [
    {
     "data": {
      "text/html": [
       "<div>\n",
       "<style scoped>\n",
       "    .dataframe tbody tr th:only-of-type {\n",
       "        vertical-align: middle;\n",
       "    }\n",
       "\n",
       "    .dataframe tbody tr th {\n",
       "        vertical-align: top;\n",
       "    }\n",
       "\n",
       "    .dataframe thead th {\n",
       "        text-align: right;\n",
       "    }\n",
       "</style>\n",
       "<table border=\"1\" class=\"dataframe\">\n",
       "  <thead>\n",
       "    <tr style=\"text-align: right;\">\n",
       "      <th></th>\n",
       "      <th>HDI</th>\n",
       "      <th>GDP</th>\n",
       "      <th>FOREIGN INVESTMENT</th>\n",
       "    </tr>\n",
       "  </thead>\n",
       "  <tbody>\n",
       "    <tr>\n",
       "      <th>HDI</th>\n",
       "      <td>1.000000</td>\n",
       "      <td>0.104412</td>\n",
       "      <td>0.120714</td>\n",
       "    </tr>\n",
       "    <tr>\n",
       "      <th>GDP</th>\n",
       "      <td>0.104412</td>\n",
       "      <td>1.000000</td>\n",
       "      <td>-0.204708</td>\n",
       "    </tr>\n",
       "    <tr>\n",
       "      <th>FOREIGN INVESTMENT</th>\n",
       "      <td>0.120714</td>\n",
       "      <td>-0.204708</td>\n",
       "      <td>1.000000</td>\n",
       "    </tr>\n",
       "  </tbody>\n",
       "</table>\n",
       "</div>"
      ],
      "text/plain": [
       "                         HDI       GDP  FOREIGN INVESTMENT\n",
       "HDI                 1.000000  0.104412            0.120714\n",
       "GDP                 0.104412  1.000000           -0.204708\n",
       "FOREIGN INVESTMENT  0.120714 -0.204708            1.000000"
      ]
     },
     "execution_count": 136,
     "metadata": {},
     "output_type": "execute_result"
    }
   ],
   "source": [
    "#Correlação entre as variáveis em 1980 dos países pertencentes à OECD:\n",
    "df_1980_in.corr()"
   ]
  },
  {
   "cell_type": "code",
   "execution_count": 133,
   "metadata": {},
   "outputs": [
    {
     "data": {
      "text/html": [
       "<div>\n",
       "<style scoped>\n",
       "    .dataframe tbody tr th:only-of-type {\n",
       "        vertical-align: middle;\n",
       "    }\n",
       "\n",
       "    .dataframe tbody tr th {\n",
       "        vertical-align: top;\n",
       "    }\n",
       "\n",
       "    .dataframe thead th {\n",
       "        text-align: right;\n",
       "    }\n",
       "</style>\n",
       "<table border=\"1\" class=\"dataframe\">\n",
       "  <thead>\n",
       "    <tr style=\"text-align: right;\">\n",
       "      <th></th>\n",
       "      <th>HDI</th>\n",
       "      <th>GDP</th>\n",
       "      <th>FOREIGN INVESTMENT</th>\n",
       "    </tr>\n",
       "  </thead>\n",
       "  <tbody>\n",
       "    <tr>\n",
       "      <th>HDI</th>\n",
       "      <td>1.000000</td>\n",
       "      <td>0.169626</td>\n",
       "      <td>-0.160207</td>\n",
       "    </tr>\n",
       "    <tr>\n",
       "      <th>GDP</th>\n",
       "      <td>0.169626</td>\n",
       "      <td>1.000000</td>\n",
       "      <td>-0.022054</td>\n",
       "    </tr>\n",
       "    <tr>\n",
       "      <th>FOREIGN INVESTMENT</th>\n",
       "      <td>-0.160207</td>\n",
       "      <td>-0.022054</td>\n",
       "      <td>1.000000</td>\n",
       "    </tr>\n",
       "  </tbody>\n",
       "</table>\n",
       "</div>"
      ],
      "text/plain": [
       "                         HDI       GDP  FOREIGN INVESTMENT\n",
       "HDI                 1.000000  0.169626           -0.160207\n",
       "GDP                 0.169626  1.000000           -0.022054\n",
       "FOREIGN INVESTMENT -0.160207 -0.022054            1.000000"
      ]
     },
     "execution_count": 133,
     "metadata": {},
     "output_type": "execute_result"
    }
   ],
   "source": [
    "#Correlação entre as variáveis em 1980 dos países não pertencentes à OECD:\n",
    "df_1980_out.corr()"
   ]
  },
  {
   "cell_type": "markdown",
   "metadata": {},
   "source": [
    "Conseguimos ver que no ano de 1980, a correlação do PIB com o IDH é pequena em ambos grupos, e as correlaçoes do investimento estrangeiro com as outras variáveis, não é significativa para ser levada em consideração.\n",
    "\n",
    "<br>\n",
    "..."
   ]
  },
  {
   "cell_type": "code",
   "execution_count": 134,
   "metadata": {},
   "outputs": [
    {
     "data": {
      "text/html": [
       "<div>\n",
       "<style scoped>\n",
       "    .dataframe tbody tr th:only-of-type {\n",
       "        vertical-align: middle;\n",
       "    }\n",
       "\n",
       "    .dataframe tbody tr th {\n",
       "        vertical-align: top;\n",
       "    }\n",
       "\n",
       "    .dataframe thead th {\n",
       "        text-align: right;\n",
       "    }\n",
       "</style>\n",
       "<table border=\"1\" class=\"dataframe\">\n",
       "  <thead>\n",
       "    <tr style=\"text-align: right;\">\n",
       "      <th></th>\n",
       "      <th>HDI</th>\n",
       "      <th>GDP</th>\n",
       "      <th>FOREIGN INVESTMENT</th>\n",
       "    </tr>\n",
       "  </thead>\n",
       "  <tbody>\n",
       "    <tr>\n",
       "      <th>HDI</th>\n",
       "      <td>1.000000</td>\n",
       "      <td>0.229540</td>\n",
       "      <td>0.241254</td>\n",
       "    </tr>\n",
       "    <tr>\n",
       "      <th>GDP</th>\n",
       "      <td>0.229540</td>\n",
       "      <td>1.000000</td>\n",
       "      <td>0.819672</td>\n",
       "    </tr>\n",
       "    <tr>\n",
       "      <th>FOREIGN INVESTMENT</th>\n",
       "      <td>0.241254</td>\n",
       "      <td>0.819672</td>\n",
       "      <td>1.000000</td>\n",
       "    </tr>\n",
       "  </tbody>\n",
       "</table>\n",
       "</div>"
      ],
      "text/plain": [
       "                         HDI       GDP  FOREIGN INVESTMENT\n",
       "HDI                 1.000000  0.229540            0.241254\n",
       "GDP                 0.229540  1.000000            0.819672\n",
       "FOREIGN INVESTMENT  0.241254  0.819672            1.000000"
      ]
     },
     "execution_count": 134,
     "metadata": {},
     "output_type": "execute_result"
    }
   ],
   "source": [
    "#Correlação entre as variáveis em 2009 dos países pertencentes à OECD:\n",
    "df_2009_in.corr()"
   ]
  },
  {
   "cell_type": "code",
   "execution_count": 135,
   "metadata": {},
   "outputs": [
    {
     "data": {
      "text/html": [
       "<div>\n",
       "<style scoped>\n",
       "    .dataframe tbody tr th:only-of-type {\n",
       "        vertical-align: middle;\n",
       "    }\n",
       "\n",
       "    .dataframe tbody tr th {\n",
       "        vertical-align: top;\n",
       "    }\n",
       "\n",
       "    .dataframe thead th {\n",
       "        text-align: right;\n",
       "    }\n",
       "</style>\n",
       "<table border=\"1\" class=\"dataframe\">\n",
       "  <thead>\n",
       "    <tr style=\"text-align: right;\">\n",
       "      <th></th>\n",
       "      <th>HDI</th>\n",
       "      <th>GDP</th>\n",
       "      <th>FOREIGN INVESTMENT</th>\n",
       "    </tr>\n",
       "  </thead>\n",
       "  <tbody>\n",
       "    <tr>\n",
       "      <th>HDI</th>\n",
       "      <td>1.000000</td>\n",
       "      <td>0.108971</td>\n",
       "      <td>-0.098229</td>\n",
       "    </tr>\n",
       "    <tr>\n",
       "      <th>GDP</th>\n",
       "      <td>0.108971</td>\n",
       "      <td>1.000000</td>\n",
       "      <td>-0.063981</td>\n",
       "    </tr>\n",
       "    <tr>\n",
       "      <th>FOREIGN INVESTMENT</th>\n",
       "      <td>-0.098229</td>\n",
       "      <td>-0.063981</td>\n",
       "      <td>1.000000</td>\n",
       "    </tr>\n",
       "  </tbody>\n",
       "</table>\n",
       "</div>"
      ],
      "text/plain": [
       "                         HDI       GDP  FOREIGN INVESTMENT\n",
       "HDI                 1.000000  0.108971           -0.098229\n",
       "GDP                 0.108971  1.000000           -0.063981\n",
       "FOREIGN INVESTMENT -0.098229 -0.063981            1.000000"
      ]
     },
     "execution_count": 135,
     "metadata": {},
     "output_type": "execute_result"
    }
   ],
   "source": [
    "#Correlação entre as variáveis em 2009 dos países não pertencentes à OECD:\n",
    "df_2009_out.corr()"
   ]
  },
  {
   "cell_type": "markdown",
   "metadata": {},
   "source": [
    "____\n",
    "\n",
    "### 4. Conclusão:\n",
    "<br>"
   ]
  },
  {
   "cell_type": "markdown",
   "metadata": {},
   "source": [
    "Após a análise exploratória e um estudo sobre as correlações das variáveis ao longo dos anos, podemos concluir, que de fato a associação dos 35 membros da **OECD** pode ser relacionada com um crescimento maior do IDH e do PIB (Avaliado com o valor de mercado), e podemos ver isso a partir do aumento das médias, sendo superior que do grupo que não pertence a organização, assim como a diminuição do desvio padrão, isso quando análisamos o IDH. Já as informações obtidas sobre o PIB não desviam muito das conclusões que ja fizemos para o IDH, sendo que uma das maiores mudanças é a da distribuição da cauda, que da direito começou a se aproximar de uma distribuição normal. Além de tudo isso, também podemos constatar que principalemente em 2009 há uma grande influência dos investimentos estrangeiros no crescimento do IDH, com uma correlação de aproximadamente 0,81 e no grupo dos não-membrosa correlação é de aproximadamente -0,06, portanto podemos supor que tal superioridade em investimentos com o crescimento do PIB pode estar relacionada a uma imagem de estabilidade financeira, que é transmitida pelo fato de pertencer a OECD."
   ]
  },
  {
   "cell_type": "markdown",
   "metadata": {},
   "source": [
    "## Referêcias:\n",
    "\n",
    "- https://www.gapminder.org/data/ <br>\n",
    "\n",
    "- http://oecdobserver.org/news/archivestory.php/aid/2756/OECD_Model_Tax_Convention.html <br>\n",
    "\n",
    "- http://citeseerx.ist.psu.edu/viewdoc/download?doi=10.1.1.595.9257&rep=rep1&type=pdf<br>\n",
    "\n",
    "- http://www.gresea.be/OECD-Guidelines-its-pros-and-cons <br>\n",
    "\n",
    "- http://worldpopulationreview.com/countries/oecd-countries/<br>"
   ]
  },
  {
   "cell_type": "markdown",
   "metadata": {},
   "source": [
    "### Curiosidade:\n",
    "\n",
    "- A OECD também é chamada de \"Grupo dos Ricos\", porque os 35 países participantes produzem juntos mais da metade de toda a riqueza do mundo."
   ]
  }
 ],
 "metadata": {
  "kernelspec": {
   "display_name": "Python 3",
   "language": "python",
   "name": "python3"
  },
  "language_info": {
   "codemirror_mode": {
    "name": "ipython",
    "version": 3
   },
   "file_extension": ".py",
   "mimetype": "text/x-python",
   "name": "python",
   "nbconvert_exporter": "python",
   "pygments_lexer": "ipython3",
   "version": "3.7.3"
  }
 },
 "nbformat": 4,
 "nbformat_minor": 2
}
